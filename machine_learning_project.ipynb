{
 "cells": [
  {
   "cell_type": "markdown",
   "id": "e05d609e",
   "metadata": {},
   "source": [
    "# Final Project\n",
    "DATA 602: Introduction to Data Analysis and Machine Learning <br/>\n",
    "*Professor*: Dr. Yalin Bastanlar <br/>\n",
    "University of Maryland Baltimore County <br/>\n",
    "*Submitted by*: Harikrishna Bhumani"
   ]
  },
  {
   "cell_type": "code",
   "execution_count": 1,
   "id": "1833344e",
   "metadata": {},
   "outputs": [],
   "source": [
    "# import all the required libraries\n",
    "\n",
    "import pandas as pd\n",
    "import numpy as np\n",
    "from sklearn.linear_model import LogisticRegression\n",
    "from sklearn.model_selection import train_test_split\n",
    "from sklearn.metrics import confusion_matrix\n",
    "from sklearn.metrics import classification_report\n",
    "from sklearn.tree import DecisionTreeClassifier\n",
    "from sklearn.pipeline import Pipeline\n",
    "from sklearn.neighbors import KNeighborsClassifier\n",
    "from sklearn.ensemble import RandomForestClassifier\n",
    "from sklearn.preprocessing import StandardScaler\n",
    "import matplotlib.pyplot as plt\n",
    "from sklearn.neighbors import KNeighborsClassifier\n",
    "from sklearn.svm import LinearSVC, SVC\n",
    "from sklearn.model_selection import cross_val_score\n",
    "from sklearn.model_selection import GridSearchCV\n",
    "from sklearn.metrics.pairwise import polynomial_kernel\n",
    "from sklearn.metrics import accuracy_score"
   ]
  },
  {
   "cell_type": "code",
   "execution_count": 2,
   "id": "3026dbc1",
   "metadata": {},
   "outputs": [
    {
     "data": {
      "text/html": [
       "<div>\n",
       "<style scoped>\n",
       "    .dataframe tbody tr th:only-of-type {\n",
       "        vertical-align: middle;\n",
       "    }\n",
       "\n",
       "    .dataframe tbody tr th {\n",
       "        vertical-align: top;\n",
       "    }\n",
       "\n",
       "    .dataframe thead th {\n",
       "        text-align: right;\n",
       "    }\n",
       "</style>\n",
       "<table border=\"1\" class=\"dataframe\">\n",
       "  <thead>\n",
       "    <tr style=\"text-align: right;\">\n",
       "      <th></th>\n",
       "      <th>Virtual</th>\n",
       "      <th>Offset</th>\n",
       "      <th>loc</th>\n",
       "      <th>Import</th>\n",
       "      <th>Imports</th>\n",
       "      <th>var</th>\n",
       "      <th>Forwarder</th>\n",
       "      <th>UINT</th>\n",
       "      <th>LONG</th>\n",
       "      <th>BOOL</th>\n",
       "      <th>...</th>\n",
       "      <th>Img99</th>\n",
       "      <th>Img100</th>\n",
       "      <th>Img101</th>\n",
       "      <th>Img102</th>\n",
       "      <th>Img103</th>\n",
       "      <th>Img104</th>\n",
       "      <th>Img105</th>\n",
       "      <th>Img106</th>\n",
       "      <th>Img107</th>\n",
       "      <th>target</th>\n",
       "    </tr>\n",
       "  </thead>\n",
       "  <tbody>\n",
       "    <tr>\n",
       "      <th>0</th>\n",
       "      <td>3.0</td>\n",
       "      <td>3.0</td>\n",
       "      <td>689.0</td>\n",
       "      <td>18.000000</td>\n",
       "      <td>6.0</td>\n",
       "      <td>890.0</td>\n",
       "      <td>6.000000</td>\n",
       "      <td>39.0</td>\n",
       "      <td>17.000000</td>\n",
       "      <td>88.0</td>\n",
       "      <td>...</td>\n",
       "      <td>-208196.847822</td>\n",
       "      <td>149454.443336</td>\n",
       "      <td>330552.774213</td>\n",
       "      <td>133907.410063</td>\n",
       "      <td>44038.800343</td>\n",
       "      <td>55156.067737</td>\n",
       "      <td>-77588.974897</td>\n",
       "      <td>171979.000000</td>\n",
       "      <td>162674.0</td>\n",
       "      <td>2</td>\n",
       "    </tr>\n",
       "    <tr>\n",
       "      <th>1</th>\n",
       "      <td>3.0</td>\n",
       "      <td>3.0</td>\n",
       "      <td>583.0</td>\n",
       "      <td>15.000000</td>\n",
       "      <td>5.0</td>\n",
       "      <td>1574.0</td>\n",
       "      <td>8640.382774</td>\n",
       "      <td>6.0</td>\n",
       "      <td>7.000000</td>\n",
       "      <td>30.0</td>\n",
       "      <td>...</td>\n",
       "      <td>36209.864030</td>\n",
       "      <td>221318.549792</td>\n",
       "      <td>-1568.194718</td>\n",
       "      <td>22651.037591</td>\n",
       "      <td>-144906.975987</td>\n",
       "      <td>-33489.566102</td>\n",
       "      <td>157701.356695</td>\n",
       "      <td>7702.000000</td>\n",
       "      <td>6551.0</td>\n",
       "      <td>8</td>\n",
       "    </tr>\n",
       "    <tr>\n",
       "      <th>2</th>\n",
       "      <td>3.0</td>\n",
       "      <td>4.0</td>\n",
       "      <td>2796.0</td>\n",
       "      <td>15.000000</td>\n",
       "      <td>5.0</td>\n",
       "      <td>625.0</td>\n",
       "      <td>5.000000</td>\n",
       "      <td>58.0</td>\n",
       "      <td>11.000000</td>\n",
       "      <td>152.0</td>\n",
       "      <td>...</td>\n",
       "      <td>88398.670923</td>\n",
       "      <td>66550.556919</td>\n",
       "      <td>5404.362294</td>\n",
       "      <td>13947.925003</td>\n",
       "      <td>-48559.885445</td>\n",
       "      <td>257023.562444</td>\n",
       "      <td>-204889.973046</td>\n",
       "      <td>151324.169975</td>\n",
       "      <td>12946.0</td>\n",
       "      <td>6</td>\n",
       "    </tr>\n",
       "    <tr>\n",
       "      <th>3</th>\n",
       "      <td>3.0</td>\n",
       "      <td>3.0</td>\n",
       "      <td>373.0</td>\n",
       "      <td>2726.071722</td>\n",
       "      <td>9.0</td>\n",
       "      <td>615.0</td>\n",
       "      <td>9.000000</td>\n",
       "      <td>16.0</td>\n",
       "      <td>98583.277889</td>\n",
       "      <td>34.0</td>\n",
       "      <td>...</td>\n",
       "      <td>-157101.258148</td>\n",
       "      <td>-60336.395075</td>\n",
       "      <td>157629.928962</td>\n",
       "      <td>117458.409503</td>\n",
       "      <td>62076.273381</td>\n",
       "      <td>98733.489947</td>\n",
       "      <td>-51461.636374</td>\n",
       "      <td>122247.000000</td>\n",
       "      <td>98621.0</td>\n",
       "      <td>4</td>\n",
       "    </tr>\n",
       "    <tr>\n",
       "      <th>4</th>\n",
       "      <td>3.0</td>\n",
       "      <td>3.0</td>\n",
       "      <td>77.0</td>\n",
       "      <td>12.000000</td>\n",
       "      <td>4.0</td>\n",
       "      <td>66.0</td>\n",
       "      <td>91945.635853</td>\n",
       "      <td>3.0</td>\n",
       "      <td>0.000000</td>\n",
       "      <td>5.0</td>\n",
       "      <td>...</td>\n",
       "      <td>32595.648968</td>\n",
       "      <td>-228909.737896</td>\n",
       "      <td>-87033.363460</td>\n",
       "      <td>131606.196188</td>\n",
       "      <td>-118625.690367</td>\n",
       "      <td>89326.297602</td>\n",
       "      <td>-84991.427204</td>\n",
       "      <td>15501.000000</td>\n",
       "      <td>11864.0</td>\n",
       "      <td>1</td>\n",
       "    </tr>\n",
       "  </tbody>\n",
       "</table>\n",
       "<p>5 rows × 1805 columns</p>\n",
       "</div>"
      ],
      "text/plain": [
       "   Virtual  Offset     loc       Import  Imports     var     Forwarder  UINT  \\\n",
       "0      3.0     3.0   689.0    18.000000      6.0   890.0      6.000000  39.0   \n",
       "1      3.0     3.0   583.0    15.000000      5.0  1574.0   8640.382774   6.0   \n",
       "2      3.0     4.0  2796.0    15.000000      5.0   625.0      5.000000  58.0   \n",
       "3      3.0     3.0   373.0  2726.071722      9.0   615.0      9.000000  16.0   \n",
       "4      3.0     3.0    77.0    12.000000      4.0    66.0  91945.635853   3.0   \n",
       "\n",
       "           LONG   BOOL  ...          Img99         Img100         Img101  \\\n",
       "0     17.000000   88.0  ... -208196.847822  149454.443336  330552.774213   \n",
       "1      7.000000   30.0  ...   36209.864030  221318.549792   -1568.194718   \n",
       "2     11.000000  152.0  ...   88398.670923   66550.556919    5404.362294   \n",
       "3  98583.277889   34.0  ... -157101.258148  -60336.395075  157629.928962   \n",
       "4      0.000000    5.0  ...   32595.648968 -228909.737896  -87033.363460   \n",
       "\n",
       "          Img102         Img103         Img104         Img105         Img106  \\\n",
       "0  133907.410063   44038.800343   55156.067737  -77588.974897  171979.000000   \n",
       "1   22651.037591 -144906.975987  -33489.566102  157701.356695    7702.000000   \n",
       "2   13947.925003  -48559.885445  257023.562444 -204889.973046  151324.169975   \n",
       "3  117458.409503   62076.273381   98733.489947  -51461.636374  122247.000000   \n",
       "4  131606.196188 -118625.690367   89326.297602  -84991.427204   15501.000000   \n",
       "\n",
       "     Img107  target  \n",
       "0  162674.0       2  \n",
       "1    6551.0       8  \n",
       "2   12946.0       6  \n",
       "3   98621.0       4  \n",
       "4   11864.0       1  \n",
       "\n",
       "[5 rows x 1805 columns]"
      ]
     },
     "execution_count": 2,
     "metadata": {},
     "output_type": "execute_result"
    }
   ],
   "source": [
    "df = pd.read_csv('data602_exam.csv')\n",
    "df.head()"
   ]
  },
  {
   "cell_type": "code",
   "execution_count": 3,
   "id": "b4ce31a3",
   "metadata": {},
   "outputs": [
    {
     "name": "stdout",
     "output_type": "stream",
     "text": [
      "(4999, 1805)\n"
     ]
    }
   ],
   "source": [
    "# rows & columns\n",
    "print(df.shape)"
   ]
  },
  {
   "cell_type": "code",
   "execution_count": 4,
   "id": "f85e9504",
   "metadata": {},
   "outputs": [
    {
     "name": "stdout",
     "output_type": "stream",
     "text": [
      "[2 8 6 4 1 3 9 5 7]\n"
     ]
    }
   ],
   "source": [
    "# unique values in target column\n",
    "print(df.target.unique())"
   ]
  },
  {
   "cell_type": "markdown",
   "id": "487ddf3b",
   "metadata": {},
   "source": [
    "- From the above, we can say that it is **Supervised Classification** model."
   ]
  },
  {
   "cell_type": "code",
   "execution_count": 5,
   "id": "c0c682cb",
   "metadata": {},
   "outputs": [
    {
     "name": "stdout",
     "output_type": "stream",
     "text": [
      "3    1344\n",
      "2    1060\n",
      "1     696\n",
      "8     559\n",
      "9     472\n",
      "6     371\n",
      "4     233\n",
      "7     192\n",
      "5      72\n",
      "Name: target, dtype: int64\n"
     ]
    }
   ],
   "source": [
    "# count the number of values for each class\n",
    "print(df['target'].value_counts())"
   ]
  },
  {
   "cell_type": "code",
   "execution_count": 6,
   "id": "ab40e38c",
   "metadata": {},
   "outputs": [
    {
     "name": "stdout",
     "output_type": "stream",
     "text": [
      "(3749, 1804)\n",
      "(1250, 1804)\n"
     ]
    },
    {
     "data": {
      "text/html": [
       "<div>\n",
       "<style scoped>\n",
       "    .dataframe tbody tr th:only-of-type {\n",
       "        vertical-align: middle;\n",
       "    }\n",
       "\n",
       "    .dataframe tbody tr th {\n",
       "        vertical-align: top;\n",
       "    }\n",
       "\n",
       "    .dataframe thead th {\n",
       "        text-align: right;\n",
       "    }\n",
       "</style>\n",
       "<table border=\"1\" class=\"dataframe\">\n",
       "  <thead>\n",
       "    <tr style=\"text-align: right;\">\n",
       "      <th></th>\n",
       "      <th>Virtual</th>\n",
       "      <th>Offset</th>\n",
       "      <th>loc</th>\n",
       "      <th>Import</th>\n",
       "      <th>Imports</th>\n",
       "      <th>var</th>\n",
       "      <th>Forwarder</th>\n",
       "      <th>UINT</th>\n",
       "      <th>LONG</th>\n",
       "      <th>BOOL</th>\n",
       "      <th>...</th>\n",
       "      <th>Img98</th>\n",
       "      <th>Img99</th>\n",
       "      <th>Img100</th>\n",
       "      <th>Img101</th>\n",
       "      <th>Img102</th>\n",
       "      <th>Img103</th>\n",
       "      <th>Img104</th>\n",
       "      <th>Img105</th>\n",
       "      <th>Img106</th>\n",
       "      <th>Img107</th>\n",
       "    </tr>\n",
       "  </thead>\n",
       "  <tbody>\n",
       "    <tr>\n",
       "      <th>3311</th>\n",
       "      <td>4.0</td>\n",
       "      <td>4.000000</td>\n",
       "      <td>869.0</td>\n",
       "      <td>21.0</td>\n",
       "      <td>7.000000</td>\n",
       "      <td>780.0</td>\n",
       "      <td>7.0</td>\n",
       "      <td>40.0</td>\n",
       "      <td>17.0</td>\n",
       "      <td>79.0</td>\n",
       "      <td>...</td>\n",
       "      <td>9219.509778</td>\n",
       "      <td>210257.639766</td>\n",
       "      <td>-61821.916534</td>\n",
       "      <td>143254.108536</td>\n",
       "      <td>50379.319573</td>\n",
       "      <td>-56999.923904</td>\n",
       "      <td>125356.502939</td>\n",
       "      <td>163905.103718</td>\n",
       "      <td>237951.303109</td>\n",
       "      <td>164807.0</td>\n",
       "    </tr>\n",
       "    <tr>\n",
       "      <th>4370</th>\n",
       "      <td>6.0</td>\n",
       "      <td>6.000000</td>\n",
       "      <td>3784.0</td>\n",
       "      <td>0.0</td>\n",
       "      <td>57321.958465</td>\n",
       "      <td>3990.0</td>\n",
       "      <td>0.0</td>\n",
       "      <td>4.0</td>\n",
       "      <td>4.0</td>\n",
       "      <td>3.0</td>\n",
       "      <td>...</td>\n",
       "      <td>-121682.369185</td>\n",
       "      <td>-39447.570684</td>\n",
       "      <td>129150.179016</td>\n",
       "      <td>91672.822521</td>\n",
       "      <td>-93921.623718</td>\n",
       "      <td>123761.831580</td>\n",
       "      <td>-38425.723337</td>\n",
       "      <td>-59096.751251</td>\n",
       "      <td>64767.929428</td>\n",
       "      <td>7051.0</td>\n",
       "    </tr>\n",
       "    <tr>\n",
       "      <th>1870</th>\n",
       "      <td>3.0</td>\n",
       "      <td>77947.875882</td>\n",
       "      <td>2484.0</td>\n",
       "      <td>21.0</td>\n",
       "      <td>7.000000</td>\n",
       "      <td>992.0</td>\n",
       "      <td>7.0</td>\n",
       "      <td>65.0</td>\n",
       "      <td>28.0</td>\n",
       "      <td>136.0</td>\n",
       "      <td>...</td>\n",
       "      <td>129392.001007</td>\n",
       "      <td>-123002.185275</td>\n",
       "      <td>54088.178590</td>\n",
       "      <td>173738.561777</td>\n",
       "      <td>-72342.127720</td>\n",
       "      <td>-92451.904395</td>\n",
       "      <td>-71955.780148</td>\n",
       "      <td>-95784.217111</td>\n",
       "      <td>12405.000000</td>\n",
       "      <td>5041.0</td>\n",
       "    </tr>\n",
       "    <tr>\n",
       "      <th>4127</th>\n",
       "      <td>3.0</td>\n",
       "      <td>3.000000</td>\n",
       "      <td>31.0</td>\n",
       "      <td>12.0</td>\n",
       "      <td>54626.663571</td>\n",
       "      <td>30.0</td>\n",
       "      <td>4.0</td>\n",
       "      <td>3.0</td>\n",
       "      <td>0.0</td>\n",
       "      <td>10.0</td>\n",
       "      <td>...</td>\n",
       "      <td>61376.241788</td>\n",
       "      <td>-54821.519692</td>\n",
       "      <td>209653.164968</td>\n",
       "      <td>10721.277235</td>\n",
       "      <td>60777.675526</td>\n",
       "      <td>106755.472455</td>\n",
       "      <td>85607.576596</td>\n",
       "      <td>41150.672120</td>\n",
       "      <td>67533.000000</td>\n",
       "      <td>64795.0</td>\n",
       "    </tr>\n",
       "    <tr>\n",
       "      <th>1616</th>\n",
       "      <td>3.0</td>\n",
       "      <td>3.000000</td>\n",
       "      <td>127.0</td>\n",
       "      <td>12.0</td>\n",
       "      <td>4.000000</td>\n",
       "      <td>39.0</td>\n",
       "      <td>4.0</td>\n",
       "      <td>12.0</td>\n",
       "      <td>0.0</td>\n",
       "      <td>9.0</td>\n",
       "      <td>...</td>\n",
       "      <td>13826.357728</td>\n",
       "      <td>26719.067783</td>\n",
       "      <td>-32435.486388</td>\n",
       "      <td>57358.854942</td>\n",
       "      <td>119165.482380</td>\n",
       "      <td>34489.206282</td>\n",
       "      <td>-81423.797718</td>\n",
       "      <td>-68162.346889</td>\n",
       "      <td>71653.000000</td>\n",
       "      <td>68633.0</td>\n",
       "    </tr>\n",
       "    <tr>\n",
       "      <th>...</th>\n",
       "      <td>...</td>\n",
       "      <td>...</td>\n",
       "      <td>...</td>\n",
       "      <td>...</td>\n",
       "      <td>...</td>\n",
       "      <td>...</td>\n",
       "      <td>...</td>\n",
       "      <td>...</td>\n",
       "      <td>...</td>\n",
       "      <td>...</td>\n",
       "      <td>...</td>\n",
       "      <td>...</td>\n",
       "      <td>...</td>\n",
       "      <td>...</td>\n",
       "      <td>...</td>\n",
       "      <td>...</td>\n",
       "      <td>...</td>\n",
       "      <td>...</td>\n",
       "      <td>...</td>\n",
       "      <td>...</td>\n",
       "      <td>...</td>\n",
       "    </tr>\n",
       "    <tr>\n",
       "      <th>4426</th>\n",
       "      <td>3.0</td>\n",
       "      <td>3.000000</td>\n",
       "      <td>545.0</td>\n",
       "      <td>24.0</td>\n",
       "      <td>8.000000</td>\n",
       "      <td>1081.0</td>\n",
       "      <td>8.0</td>\n",
       "      <td>8.0</td>\n",
       "      <td>1.0</td>\n",
       "      <td>36.0</td>\n",
       "      <td>...</td>\n",
       "      <td>-48047.129411</td>\n",
       "      <td>31542.697821</td>\n",
       "      <td>-66585.711150</td>\n",
       "      <td>-131269.591391</td>\n",
       "      <td>98387.269615</td>\n",
       "      <td>78299.060225</td>\n",
       "      <td>262539.132631</td>\n",
       "      <td>98985.747229</td>\n",
       "      <td>14579.000000</td>\n",
       "      <td>6965.0</td>\n",
       "    </tr>\n",
       "    <tr>\n",
       "      <th>466</th>\n",
       "      <td>6.0</td>\n",
       "      <td>72102.609308</td>\n",
       "      <td>2783.0</td>\n",
       "      <td>0.0</td>\n",
       "      <td>3.000000</td>\n",
       "      <td>2713.0</td>\n",
       "      <td>0.0</td>\n",
       "      <td>4.0</td>\n",
       "      <td>4.0</td>\n",
       "      <td>3.0</td>\n",
       "      <td>...</td>\n",
       "      <td>-87731.601489</td>\n",
       "      <td>180832.037120</td>\n",
       "      <td>98920.988456</td>\n",
       "      <td>-7491.577559</td>\n",
       "      <td>-85199.148989</td>\n",
       "      <td>-201341.578092</td>\n",
       "      <td>114826.995512</td>\n",
       "      <td>2073.396217</td>\n",
       "      <td>14767.000000</td>\n",
       "      <td>10642.0</td>\n",
       "    </tr>\n",
       "    <tr>\n",
       "      <th>3092</th>\n",
       "      <td>3.0</td>\n",
       "      <td>3.000000</td>\n",
       "      <td>19.0</td>\n",
       "      <td>12.0</td>\n",
       "      <td>4.000000</td>\n",
       "      <td>11.0</td>\n",
       "      <td>4.0</td>\n",
       "      <td>9.0</td>\n",
       "      <td>0.0</td>\n",
       "      <td>16.0</td>\n",
       "      <td>...</td>\n",
       "      <td>5522.674037</td>\n",
       "      <td>-9262.137108</td>\n",
       "      <td>29475.688504</td>\n",
       "      <td>16417.721231</td>\n",
       "      <td>-47569.144978</td>\n",
       "      <td>-111726.547368</td>\n",
       "      <td>4178.003014</td>\n",
       "      <td>165109.563821</td>\n",
       "      <td>72036.000000</td>\n",
       "      <td>68354.0</td>\n",
       "    </tr>\n",
       "    <tr>\n",
       "      <th>3772</th>\n",
       "      <td>3.0</td>\n",
       "      <td>3.000000</td>\n",
       "      <td>3267.0</td>\n",
       "      <td>9.0</td>\n",
       "      <td>3.000000</td>\n",
       "      <td>1156.0</td>\n",
       "      <td>3.0</td>\n",
       "      <td>27.0</td>\n",
       "      <td>6.0</td>\n",
       "      <td>23.0</td>\n",
       "      <td>...</td>\n",
       "      <td>-6748.070559</td>\n",
       "      <td>-136321.454025</td>\n",
       "      <td>-65099.625862</td>\n",
       "      <td>70369.797516</td>\n",
       "      <td>12163.707135</td>\n",
       "      <td>-174578.282889</td>\n",
       "      <td>157747.247397</td>\n",
       "      <td>-59947.025475</td>\n",
       "      <td>12371.000000</td>\n",
       "      <td>8369.0</td>\n",
       "    </tr>\n",
       "    <tr>\n",
       "      <th>860</th>\n",
       "      <td>4.0</td>\n",
       "      <td>4.000000</td>\n",
       "      <td>11.0</td>\n",
       "      <td>0.0</td>\n",
       "      <td>4.000000</td>\n",
       "      <td>0.0</td>\n",
       "      <td>0.0</td>\n",
       "      <td>6.0</td>\n",
       "      <td>1.0</td>\n",
       "      <td>15.0</td>\n",
       "      <td>...</td>\n",
       "      <td>-89945.631689</td>\n",
       "      <td>233860.055549</td>\n",
       "      <td>-1204.957959</td>\n",
       "      <td>12432.850770</td>\n",
       "      <td>231955.527851</td>\n",
       "      <td>27841.763845</td>\n",
       "      <td>31936.478985</td>\n",
       "      <td>-112738.199753</td>\n",
       "      <td>0.000000</td>\n",
       "      <td>0.0</td>\n",
       "    </tr>\n",
       "  </tbody>\n",
       "</table>\n",
       "<p>3749 rows × 1804 columns</p>\n",
       "</div>"
      ],
      "text/plain": [
       "      Virtual        Offset     loc  Import       Imports     var  Forwarder  \\\n",
       "3311      4.0      4.000000   869.0    21.0      7.000000   780.0        7.0   \n",
       "4370      6.0      6.000000  3784.0     0.0  57321.958465  3990.0        0.0   \n",
       "1870      3.0  77947.875882  2484.0    21.0      7.000000   992.0        7.0   \n",
       "4127      3.0      3.000000    31.0    12.0  54626.663571    30.0        4.0   \n",
       "1616      3.0      3.000000   127.0    12.0      4.000000    39.0        4.0   \n",
       "...       ...           ...     ...     ...           ...     ...        ...   \n",
       "4426      3.0      3.000000   545.0    24.0      8.000000  1081.0        8.0   \n",
       "466       6.0  72102.609308  2783.0     0.0      3.000000  2713.0        0.0   \n",
       "3092      3.0      3.000000    19.0    12.0      4.000000    11.0        4.0   \n",
       "3772      3.0      3.000000  3267.0     9.0      3.000000  1156.0        3.0   \n",
       "860       4.0      4.000000    11.0     0.0      4.000000     0.0        0.0   \n",
       "\n",
       "      UINT  LONG   BOOL  ...          Img98          Img99         Img100  \\\n",
       "3311  40.0  17.0   79.0  ...    9219.509778  210257.639766  -61821.916534   \n",
       "4370   4.0   4.0    3.0  ... -121682.369185  -39447.570684  129150.179016   \n",
       "1870  65.0  28.0  136.0  ...  129392.001007 -123002.185275   54088.178590   \n",
       "4127   3.0   0.0   10.0  ...   61376.241788  -54821.519692  209653.164968   \n",
       "1616  12.0   0.0    9.0  ...   13826.357728   26719.067783  -32435.486388   \n",
       "...    ...   ...    ...  ...            ...            ...            ...   \n",
       "4426   8.0   1.0   36.0  ...  -48047.129411   31542.697821  -66585.711150   \n",
       "466    4.0   4.0    3.0  ...  -87731.601489  180832.037120   98920.988456   \n",
       "3092   9.0   0.0   16.0  ...    5522.674037   -9262.137108   29475.688504   \n",
       "3772  27.0   6.0   23.0  ...   -6748.070559 -136321.454025  -65099.625862   \n",
       "860    6.0   1.0   15.0  ...  -89945.631689  233860.055549   -1204.957959   \n",
       "\n",
       "             Img101         Img102         Img103         Img104  \\\n",
       "3311  143254.108536   50379.319573  -56999.923904  125356.502939   \n",
       "4370   91672.822521  -93921.623718  123761.831580  -38425.723337   \n",
       "1870  173738.561777  -72342.127720  -92451.904395  -71955.780148   \n",
       "4127   10721.277235   60777.675526  106755.472455   85607.576596   \n",
       "1616   57358.854942  119165.482380   34489.206282  -81423.797718   \n",
       "...             ...            ...            ...            ...   \n",
       "4426 -131269.591391   98387.269615   78299.060225  262539.132631   \n",
       "466    -7491.577559  -85199.148989 -201341.578092  114826.995512   \n",
       "3092   16417.721231  -47569.144978 -111726.547368    4178.003014   \n",
       "3772   70369.797516   12163.707135 -174578.282889  157747.247397   \n",
       "860    12432.850770  231955.527851   27841.763845   31936.478985   \n",
       "\n",
       "             Img105         Img106    Img107  \n",
       "3311  163905.103718  237951.303109  164807.0  \n",
       "4370  -59096.751251   64767.929428    7051.0  \n",
       "1870  -95784.217111   12405.000000    5041.0  \n",
       "4127   41150.672120   67533.000000   64795.0  \n",
       "1616  -68162.346889   71653.000000   68633.0  \n",
       "...             ...            ...       ...  \n",
       "4426   98985.747229   14579.000000    6965.0  \n",
       "466     2073.396217   14767.000000   10642.0  \n",
       "3092  165109.563821   72036.000000   68354.0  \n",
       "3772  -59947.025475   12371.000000    8369.0  \n",
       "860  -112738.199753       0.000000       0.0  \n",
       "\n",
       "[3749 rows x 1804 columns]"
      ]
     },
     "metadata": {},
     "output_type": "display_data"
    }
   ],
   "source": [
    "# split the dataset into train(75 %) and test(25 %)\n",
    "\n",
    "X_train, X_test, y_train, y_test = train_test_split(df.drop(['target'],axis=1),df['target'],test_size=.25, random_state=42)\n",
    "print(X_train.shape)\n",
    "print(X_test.shape)\n",
    "display(X_train)"
   ]
  },
  {
   "cell_type": "markdown",
   "id": "6f66bfd6",
   "metadata": {},
   "source": [
    "## DecsionTree Classifier:"
   ]
  },
  {
   "cell_type": "code",
   "execution_count": 7,
   "id": "72bba260",
   "metadata": {},
   "outputs": [
    {
     "data": {
      "text/html": [
       "<style>#sk-container-id-1 {color: black;background-color: white;}#sk-container-id-1 pre{padding: 0;}#sk-container-id-1 div.sk-toggleable {background-color: white;}#sk-container-id-1 label.sk-toggleable__label {cursor: pointer;display: block;width: 100%;margin-bottom: 0;padding: 0.3em;box-sizing: border-box;text-align: center;}#sk-container-id-1 label.sk-toggleable__label-arrow:before {content: \"▸\";float: left;margin-right: 0.25em;color: #696969;}#sk-container-id-1 label.sk-toggleable__label-arrow:hover:before {color: black;}#sk-container-id-1 div.sk-estimator:hover label.sk-toggleable__label-arrow:before {color: black;}#sk-container-id-1 div.sk-toggleable__content {max-height: 0;max-width: 0;overflow: hidden;text-align: left;background-color: #f0f8ff;}#sk-container-id-1 div.sk-toggleable__content pre {margin: 0.2em;color: black;border-radius: 0.25em;background-color: #f0f8ff;}#sk-container-id-1 input.sk-toggleable__control:checked~div.sk-toggleable__content {max-height: 200px;max-width: 100%;overflow: auto;}#sk-container-id-1 input.sk-toggleable__control:checked~label.sk-toggleable__label-arrow:before {content: \"▾\";}#sk-container-id-1 div.sk-estimator input.sk-toggleable__control:checked~label.sk-toggleable__label {background-color: #d4ebff;}#sk-container-id-1 div.sk-label input.sk-toggleable__control:checked~label.sk-toggleable__label {background-color: #d4ebff;}#sk-container-id-1 input.sk-hidden--visually {border: 0;clip: rect(1px 1px 1px 1px);clip: rect(1px, 1px, 1px, 1px);height: 1px;margin: -1px;overflow: hidden;padding: 0;position: absolute;width: 1px;}#sk-container-id-1 div.sk-estimator {font-family: monospace;background-color: #f0f8ff;border: 1px dotted black;border-radius: 0.25em;box-sizing: border-box;margin-bottom: 0.5em;}#sk-container-id-1 div.sk-estimator:hover {background-color: #d4ebff;}#sk-container-id-1 div.sk-parallel-item::after {content: \"\";width: 100%;border-bottom: 1px solid gray;flex-grow: 1;}#sk-container-id-1 div.sk-label:hover label.sk-toggleable__label {background-color: #d4ebff;}#sk-container-id-1 div.sk-serial::before {content: \"\";position: absolute;border-left: 1px solid gray;box-sizing: border-box;top: 0;bottom: 0;left: 50%;z-index: 0;}#sk-container-id-1 div.sk-serial {display: flex;flex-direction: column;align-items: center;background-color: white;padding-right: 0.2em;padding-left: 0.2em;position: relative;}#sk-container-id-1 div.sk-item {position: relative;z-index: 1;}#sk-container-id-1 div.sk-parallel {display: flex;align-items: stretch;justify-content: center;background-color: white;position: relative;}#sk-container-id-1 div.sk-item::before, #sk-container-id-1 div.sk-parallel-item::before {content: \"\";position: absolute;border-left: 1px solid gray;box-sizing: border-box;top: 0;bottom: 0;left: 50%;z-index: -1;}#sk-container-id-1 div.sk-parallel-item {display: flex;flex-direction: column;z-index: 1;position: relative;background-color: white;}#sk-container-id-1 div.sk-parallel-item:first-child::after {align-self: flex-end;width: 50%;}#sk-container-id-1 div.sk-parallel-item:last-child::after {align-self: flex-start;width: 50%;}#sk-container-id-1 div.sk-parallel-item:only-child::after {width: 0;}#sk-container-id-1 div.sk-dashed-wrapped {border: 1px dashed gray;margin: 0 0.4em 0.5em 0.4em;box-sizing: border-box;padding-bottom: 0.4em;background-color: white;}#sk-container-id-1 div.sk-label label {font-family: monospace;font-weight: bold;display: inline-block;line-height: 1.2em;}#sk-container-id-1 div.sk-label-container {text-align: center;}#sk-container-id-1 div.sk-container {/* jupyter's `normalize.less` sets `[hidden] { display: none; }` but bootstrap.min.css set `[hidden] { display: none !important; }` so we also need the `!important` here to be able to override the default hidden behavior on the sphinx rendered scikit-learn.org. See: https://github.com/scikit-learn/scikit-learn/issues/21755 */display: inline-block !important;position: relative;}#sk-container-id-1 div.sk-text-repr-fallback {display: none;}</style><div id=\"sk-container-id-1\" class=\"sk-top-container\"><div class=\"sk-text-repr-fallback\"><pre>DecisionTreeClassifier(max_depth=100)</pre><b>In a Jupyter environment, please rerun this cell to show the HTML representation or trust the notebook. <br />On GitHub, the HTML representation is unable to render, please try loading this page with nbviewer.org.</b></div><div class=\"sk-container\" hidden><div class=\"sk-item\"><div class=\"sk-estimator sk-toggleable\"><input class=\"sk-toggleable__control sk-hidden--visually\" id=\"sk-estimator-id-1\" type=\"checkbox\" checked><label for=\"sk-estimator-id-1\" class=\"sk-toggleable__label sk-toggleable__label-arrow\">DecisionTreeClassifier</label><div class=\"sk-toggleable__content\"><pre>DecisionTreeClassifier(max_depth=100)</pre></div></div></div></div></div>"
      ],
      "text/plain": [
       "DecisionTreeClassifier(max_depth=100)"
      ]
     },
     "execution_count": 7,
     "metadata": {},
     "output_type": "execute_result"
    }
   ],
   "source": [
    "# train the model with DecisionTreeClassifier with default entropy 'gini'\n",
    "\n",
    "tree = DecisionTreeClassifier(max_depth=100)\n",
    "tree.fit(X_train, y_train)"
   ]
  },
  {
   "cell_type": "code",
   "execution_count": 8,
   "id": "ebab3f9f",
   "metadata": {},
   "outputs": [
    {
     "name": "stdout",
     "output_type": "stream",
     "text": [
      "Train set score: 1.0\n",
      "Test set score: 0.8096\n"
     ]
    }
   ],
   "source": [
    "# train and test scores of decision tree model\n",
    "\n",
    "print(\"Train set score:\",tree.score(X_train,y_train))\n",
    "print(\"Test set score:\",tree.score(X_test,y_test))"
   ]
  },
  {
   "cell_type": "code",
   "execution_count": 9,
   "id": "5d3a7e87",
   "metadata": {},
   "outputs": [
    {
     "name": "stdout",
     "output_type": "stream",
     "text": [
      "[[139  11   4   3   2   6   0   3   3]\n",
      " [  3 237   7   3   1   5   3   4   3]\n",
      " [  2   4 308   1   4  11   2   7   4]\n",
      " [  5   7   0  34   1   3   1   5   5]\n",
      " [  2   4   4   1   3   0   1   3   1]\n",
      " [  7   5   4   2   1  60   2   4   1]\n",
      " [  3   3   5   2   0   1  32   4   7]\n",
      " [ 10   8   1   2   0   2   2 105   5]\n",
      " [  0   4   3   2   0   2   0   7  94]]\n"
     ]
    }
   ],
   "source": [
    "# confusion matrix\n",
    "\n",
    "print(confusion_matrix(tree.predict(X_test),y_test))"
   ]
  },
  {
   "cell_type": "markdown",
   "id": "6348aad2",
   "metadata": {},
   "source": [
    "## DecisionTreeClassifier with criteria 'Entropy'"
   ]
  },
  {
   "cell_type": "code",
   "execution_count": 10,
   "id": "749d7906",
   "metadata": {},
   "outputs": [
    {
     "data": {
      "text/html": [
       "<style>#sk-container-id-2 {color: black;background-color: white;}#sk-container-id-2 pre{padding: 0;}#sk-container-id-2 div.sk-toggleable {background-color: white;}#sk-container-id-2 label.sk-toggleable__label {cursor: pointer;display: block;width: 100%;margin-bottom: 0;padding: 0.3em;box-sizing: border-box;text-align: center;}#sk-container-id-2 label.sk-toggleable__label-arrow:before {content: \"▸\";float: left;margin-right: 0.25em;color: #696969;}#sk-container-id-2 label.sk-toggleable__label-arrow:hover:before {color: black;}#sk-container-id-2 div.sk-estimator:hover label.sk-toggleable__label-arrow:before {color: black;}#sk-container-id-2 div.sk-toggleable__content {max-height: 0;max-width: 0;overflow: hidden;text-align: left;background-color: #f0f8ff;}#sk-container-id-2 div.sk-toggleable__content pre {margin: 0.2em;color: black;border-radius: 0.25em;background-color: #f0f8ff;}#sk-container-id-2 input.sk-toggleable__control:checked~div.sk-toggleable__content {max-height: 200px;max-width: 100%;overflow: auto;}#sk-container-id-2 input.sk-toggleable__control:checked~label.sk-toggleable__label-arrow:before {content: \"▾\";}#sk-container-id-2 div.sk-estimator input.sk-toggleable__control:checked~label.sk-toggleable__label {background-color: #d4ebff;}#sk-container-id-2 div.sk-label input.sk-toggleable__control:checked~label.sk-toggleable__label {background-color: #d4ebff;}#sk-container-id-2 input.sk-hidden--visually {border: 0;clip: rect(1px 1px 1px 1px);clip: rect(1px, 1px, 1px, 1px);height: 1px;margin: -1px;overflow: hidden;padding: 0;position: absolute;width: 1px;}#sk-container-id-2 div.sk-estimator {font-family: monospace;background-color: #f0f8ff;border: 1px dotted black;border-radius: 0.25em;box-sizing: border-box;margin-bottom: 0.5em;}#sk-container-id-2 div.sk-estimator:hover {background-color: #d4ebff;}#sk-container-id-2 div.sk-parallel-item::after {content: \"\";width: 100%;border-bottom: 1px solid gray;flex-grow: 1;}#sk-container-id-2 div.sk-label:hover label.sk-toggleable__label {background-color: #d4ebff;}#sk-container-id-2 div.sk-serial::before {content: \"\";position: absolute;border-left: 1px solid gray;box-sizing: border-box;top: 0;bottom: 0;left: 50%;z-index: 0;}#sk-container-id-2 div.sk-serial {display: flex;flex-direction: column;align-items: center;background-color: white;padding-right: 0.2em;padding-left: 0.2em;position: relative;}#sk-container-id-2 div.sk-item {position: relative;z-index: 1;}#sk-container-id-2 div.sk-parallel {display: flex;align-items: stretch;justify-content: center;background-color: white;position: relative;}#sk-container-id-2 div.sk-item::before, #sk-container-id-2 div.sk-parallel-item::before {content: \"\";position: absolute;border-left: 1px solid gray;box-sizing: border-box;top: 0;bottom: 0;left: 50%;z-index: -1;}#sk-container-id-2 div.sk-parallel-item {display: flex;flex-direction: column;z-index: 1;position: relative;background-color: white;}#sk-container-id-2 div.sk-parallel-item:first-child::after {align-self: flex-end;width: 50%;}#sk-container-id-2 div.sk-parallel-item:last-child::after {align-self: flex-start;width: 50%;}#sk-container-id-2 div.sk-parallel-item:only-child::after {width: 0;}#sk-container-id-2 div.sk-dashed-wrapped {border: 1px dashed gray;margin: 0 0.4em 0.5em 0.4em;box-sizing: border-box;padding-bottom: 0.4em;background-color: white;}#sk-container-id-2 div.sk-label label {font-family: monospace;font-weight: bold;display: inline-block;line-height: 1.2em;}#sk-container-id-2 div.sk-label-container {text-align: center;}#sk-container-id-2 div.sk-container {/* jupyter's `normalize.less` sets `[hidden] { display: none; }` but bootstrap.min.css set `[hidden] { display: none !important; }` so we also need the `!important` here to be able to override the default hidden behavior on the sphinx rendered scikit-learn.org. See: https://github.com/scikit-learn/scikit-learn/issues/21755 */display: inline-block !important;position: relative;}#sk-container-id-2 div.sk-text-repr-fallback {display: none;}</style><div id=\"sk-container-id-2\" class=\"sk-top-container\"><div class=\"sk-text-repr-fallback\"><pre>DecisionTreeClassifier(criterion=&#x27;entropy&#x27;)</pre><b>In a Jupyter environment, please rerun this cell to show the HTML representation or trust the notebook. <br />On GitHub, the HTML representation is unable to render, please try loading this page with nbviewer.org.</b></div><div class=\"sk-container\" hidden><div class=\"sk-item\"><div class=\"sk-estimator sk-toggleable\"><input class=\"sk-toggleable__control sk-hidden--visually\" id=\"sk-estimator-id-2\" type=\"checkbox\" checked><label for=\"sk-estimator-id-2\" class=\"sk-toggleable__label sk-toggleable__label-arrow\">DecisionTreeClassifier</label><div class=\"sk-toggleable__content\"><pre>DecisionTreeClassifier(criterion=&#x27;entropy&#x27;)</pre></div></div></div></div></div>"
      ],
      "text/plain": [
       "DecisionTreeClassifier(criterion='entropy')"
      ]
     },
     "execution_count": 10,
     "metadata": {},
     "output_type": "execute_result"
    }
   ],
   "source": [
    "# train the model with DecisionTreeClassifier with default entropy 'entropy'\n",
    "\n",
    "entropy_tree = DecisionTreeClassifier(criterion='entropy') \n",
    "entropy_tree.fit(X_train, y_train)"
   ]
  },
  {
   "cell_type": "code",
   "execution_count": 11,
   "id": "ecd0e639",
   "metadata": {},
   "outputs": [
    {
     "name": "stdout",
     "output_type": "stream",
     "text": [
      "Train set score: 1.0\n",
      "Test set score: 0.8192\n"
     ]
    }
   ],
   "source": [
    "# train and test scores\n",
    "\n",
    "print(\"Train set score:\",entropy_tree.score(X_train,y_train))\n",
    "print(\"Test set score:\",entropy_tree.score(X_test,y_test))"
   ]
  },
  {
   "cell_type": "markdown",
   "id": "374280be",
   "metadata": {},
   "source": [
    "- Score increased with **Entropy** criteria compared to **Gini**"
   ]
  },
  {
   "cell_type": "markdown",
   "id": "ce15a3cc",
   "metadata": {},
   "source": [
    "## Feature Selection with their Importances:"
   ]
  },
  {
   "cell_type": "code",
   "execution_count": 12,
   "id": "19b2e15f",
   "metadata": {},
   "outputs": [
    {
     "name": "stdout",
     "output_type": "stream",
     "text": [
      "Img0.1                  0.223218\n",
      "section_names_header    0.176392\n",
      "dc_por                  0.086962\n",
      "TB_12                   0.060069\n",
      "_except_handler3        0.045592\n",
      "                          ...   \n",
      "TB_11                   0.000320\n",
      "TB_15                   0.000320\n",
      "TB_18                   0.000320\n",
      "TB_42                   0.000320\n",
      "TB_65                   0.000320\n",
      "Length: 300, dtype: float64\n"
     ]
    }
   ],
   "source": [
    "# create a pandas series and index with train df columns\n",
    "# this maps the columns with their importances\n",
    "feature_importances = pd.Series(tree.feature_importances_, index=X_train.columns)\n",
    "\n",
    "# select the top 300 features based on importance\n",
    "top_features = feature_importances.nlargest(300)\n",
    "\n",
    "# print the top features\n",
    "print(top_features)"
   ]
  },
  {
   "cell_type": "markdown",
   "id": "98399bae",
   "metadata": {},
   "source": [
    "### Why only top 300 features?\n",
    "- Beyond 300 features, there is no improvement in score. Hence I took only top 300 features."
   ]
  },
  {
   "cell_type": "code",
   "execution_count": 13,
   "id": "e0ec7089",
   "metadata": {},
   "outputs": [],
   "source": [
    "# split the train and test df from the selected features\n",
    "\n",
    "m_X_train, m_X_test, m_y_train, m_y_test = train_test_split(df[top_features.index],df['target'],test_size=.25, random_state=42)"
   ]
  },
  {
   "cell_type": "markdown",
   "id": "66fcad87",
   "metadata": {},
   "source": [
    "### DecisionTree Classification with seletive features:"
   ]
  },
  {
   "cell_type": "code",
   "execution_count": 14,
   "id": "607c84b1",
   "metadata": {},
   "outputs": [
    {
     "name": "stdout",
     "output_type": "stream",
     "text": [
      "New Train dataframe size (3749, 300)\n",
      "New Test dataframe size (1250, 300)\n"
     ]
    },
    {
     "data": {
      "text/html": [
       "<div>\n",
       "<style scoped>\n",
       "    .dataframe tbody tr th:only-of-type {\n",
       "        vertical-align: middle;\n",
       "    }\n",
       "\n",
       "    .dataframe tbody tr th {\n",
       "        vertical-align: top;\n",
       "    }\n",
       "\n",
       "    .dataframe thead th {\n",
       "        text-align: right;\n",
       "    }\n",
       "</style>\n",
       "<table border=\"1\" class=\"dataframe\">\n",
       "  <thead>\n",
       "    <tr style=\"text-align: right;\">\n",
       "      <th></th>\n",
       "      <th>Img0.1</th>\n",
       "      <th>section_names_header</th>\n",
       "      <th>dc_por</th>\n",
       "      <th>TB_12</th>\n",
       "      <th>_except_handler3</th>\n",
       "      <th>Offset.1</th>\n",
       "      <th>TB_b5</th>\n",
       "      <th>dd_text</th>\n",
       "      <th>TB_8e</th>\n",
       "      <th>Img35</th>\n",
       "      <th>...</th>\n",
       "      <th>ImageList_Draw</th>\n",
       "      <th>__vbaStrVarVal</th>\n",
       "      <th>InitCommonControls</th>\n",
       "      <th>__vbaInStr</th>\n",
       "      <th>TB_04</th>\n",
       "      <th>TB_11</th>\n",
       "      <th>TB_15</th>\n",
       "      <th>TB_18</th>\n",
       "      <th>TB_42</th>\n",
       "      <th>TB_65</th>\n",
       "    </tr>\n",
       "  </thead>\n",
       "  <tbody>\n",
       "    <tr>\n",
       "      <th>3311</th>\n",
       "      <td>2.001739e+05</td>\n",
       "      <td>0.0</td>\n",
       "      <td>0.950888</td>\n",
       "      <td>23758.371546</td>\n",
       "      <td>0.0</td>\n",
       "      <td>4.198400e+06</td>\n",
       "      <td>599.0</td>\n",
       "      <td>0.002086</td>\n",
       "      <td>431.0</td>\n",
       "      <td>0.000036</td>\n",
       "      <td>...</td>\n",
       "      <td>0.000000</td>\n",
       "      <td>0.000000</td>\n",
       "      <td>0.000000</td>\n",
       "      <td>0.0</td>\n",
       "      <td>7430.000000</td>\n",
       "      <td>240.0</td>\n",
       "      <td>417.0</td>\n",
       "      <td>8155.000000</td>\n",
       "      <td>476.0</td>\n",
       "      <td>93266.72921</td>\n",
       "    </tr>\n",
       "    <tr>\n",
       "      <th>4370</th>\n",
       "      <td>4.439841e+04</td>\n",
       "      <td>19.0</td>\n",
       "      <td>0.355571</td>\n",
       "      <td>425.000000</td>\n",
       "      <td>0.0</td>\n",
       "      <td>1.811153e+09</td>\n",
       "      <td>420.0</td>\n",
       "      <td>0.000362</td>\n",
       "      <td>372.0</td>\n",
       "      <td>0.000076</td>\n",
       "      <td>...</td>\n",
       "      <td>0.000000</td>\n",
       "      <td>0.000000</td>\n",
       "      <td>0.000000</td>\n",
       "      <td>0.0</td>\n",
       "      <td>1830.000000</td>\n",
       "      <td>443.0</td>\n",
       "      <td>415.0</td>\n",
       "      <td>544.000000</td>\n",
       "      <td>520.0</td>\n",
       "      <td>891.00000</td>\n",
       "    </tr>\n",
       "    <tr>\n",
       "      <th>1870</th>\n",
       "      <td>-2.849105e+04</td>\n",
       "      <td>18.0</td>\n",
       "      <td>0.869786</td>\n",
       "      <td>414.000000</td>\n",
       "      <td>3.0</td>\n",
       "      <td>4.198400e+06</td>\n",
       "      <td>346.0</td>\n",
       "      <td>0.005651</td>\n",
       "      <td>384.0</td>\n",
       "      <td>0.000032</td>\n",
       "      <td>...</td>\n",
       "      <td>0.000000</td>\n",
       "      <td>0.000000</td>\n",
       "      <td>2783.733904</td>\n",
       "      <td>0.0</td>\n",
       "      <td>667.000000</td>\n",
       "      <td>397.0</td>\n",
       "      <td>1138.0</td>\n",
       "      <td>537.000000</td>\n",
       "      <td>395.0</td>\n",
       "      <td>1075.00000</td>\n",
       "    </tr>\n",
       "    <tr>\n",
       "      <th>4127</th>\n",
       "      <td>1.305014e+06</td>\n",
       "      <td>17.0</td>\n",
       "      <td>0.995461</td>\n",
       "      <td>3048.000000</td>\n",
       "      <td>0.0</td>\n",
       "      <td>4.198400e+06</td>\n",
       "      <td>3068.0</td>\n",
       "      <td>0.029582</td>\n",
       "      <td>2972.0</td>\n",
       "      <td>0.001688</td>\n",
       "      <td>...</td>\n",
       "      <td>35031.633322</td>\n",
       "      <td>0.000000</td>\n",
       "      <td>0.000000</td>\n",
       "      <td>0.0</td>\n",
       "      <td>3135.000000</td>\n",
       "      <td>3288.0</td>\n",
       "      <td>3169.0</td>\n",
       "      <td>3120.000000</td>\n",
       "      <td>3079.0</td>\n",
       "      <td>3206.00000</td>\n",
       "    </tr>\n",
       "    <tr>\n",
       "      <th>1616</th>\n",
       "      <td>1.531765e+06</td>\n",
       "      <td>17.0</td>\n",
       "      <td>0.387998</td>\n",
       "      <td>3102.000000</td>\n",
       "      <td>0.0</td>\n",
       "      <td>4.198400e+06</td>\n",
       "      <td>3283.0</td>\n",
       "      <td>0.058217</td>\n",
       "      <td>3395.0</td>\n",
       "      <td>0.001549</td>\n",
       "      <td>...</td>\n",
       "      <td>75284.665007</td>\n",
       "      <td>0.000000</td>\n",
       "      <td>0.000000</td>\n",
       "      <td>0.0</td>\n",
       "      <td>50285.202258</td>\n",
       "      <td>3111.0</td>\n",
       "      <td>3243.0</td>\n",
       "      <td>3158.000000</td>\n",
       "      <td>3271.0</td>\n",
       "      <td>3413.00000</td>\n",
       "    </tr>\n",
       "    <tr>\n",
       "      <th>...</th>\n",
       "      <td>...</td>\n",
       "      <td>...</td>\n",
       "      <td>...</td>\n",
       "      <td>...</td>\n",
       "      <td>...</td>\n",
       "      <td>...</td>\n",
       "      <td>...</td>\n",
       "      <td>...</td>\n",
       "      <td>...</td>\n",
       "      <td>...</td>\n",
       "      <td>...</td>\n",
       "      <td>...</td>\n",
       "      <td>...</td>\n",
       "      <td>...</td>\n",
       "      <td>...</td>\n",
       "      <td>...</td>\n",
       "      <td>...</td>\n",
       "      <td>...</td>\n",
       "      <td>...</td>\n",
       "      <td>...</td>\n",
       "      <td>...</td>\n",
       "    </tr>\n",
       "    <tr>\n",
       "      <th>4426</th>\n",
       "      <td>3.956638e+04</td>\n",
       "      <td>18.0</td>\n",
       "      <td>0.622953</td>\n",
       "      <td>130.000000</td>\n",
       "      <td>4.0</td>\n",
       "      <td>4.198400e+06</td>\n",
       "      <td>102.0</td>\n",
       "      <td>0.603247</td>\n",
       "      <td>369.0</td>\n",
       "      <td>0.000012</td>\n",
       "      <td>...</td>\n",
       "      <td>0.000000</td>\n",
       "      <td>0.000000</td>\n",
       "      <td>0.000000</td>\n",
       "      <td>0.0</td>\n",
       "      <td>1604.000000</td>\n",
       "      <td>180.0</td>\n",
       "      <td>988.0</td>\n",
       "      <td>1006.000000</td>\n",
       "      <td>658.0</td>\n",
       "      <td>291.00000</td>\n",
       "    </tr>\n",
       "    <tr>\n",
       "      <th>466</th>\n",
       "      <td>-1.386314e+05</td>\n",
       "      <td>19.0</td>\n",
       "      <td>0.045108</td>\n",
       "      <td>383.000000</td>\n",
       "      <td>0.0</td>\n",
       "      <td>1.877288e+09</td>\n",
       "      <td>328.0</td>\n",
       "      <td>0.000587</td>\n",
       "      <td>380.0</td>\n",
       "      <td>0.000067</td>\n",
       "      <td>...</td>\n",
       "      <td>0.000000</td>\n",
       "      <td>0.000000</td>\n",
       "      <td>0.000000</td>\n",
       "      <td>0.0</td>\n",
       "      <td>1597.000000</td>\n",
       "      <td>410.0</td>\n",
       "      <td>407.0</td>\n",
       "      <td>83824.046146</td>\n",
       "      <td>1175.0</td>\n",
       "      <td>743.00000</td>\n",
       "    </tr>\n",
       "    <tr>\n",
       "      <th>3092</th>\n",
       "      <td>1.808965e+06</td>\n",
       "      <td>17.0</td>\n",
       "      <td>0.537245</td>\n",
       "      <td>3175.000000</td>\n",
       "      <td>0.0</td>\n",
       "      <td>4.198400e+06</td>\n",
       "      <td>3230.0</td>\n",
       "      <td>0.112214</td>\n",
       "      <td>3244.0</td>\n",
       "      <td>0.001550</td>\n",
       "      <td>...</td>\n",
       "      <td>0.000000</td>\n",
       "      <td>19244.623841</td>\n",
       "      <td>37044.614457</td>\n",
       "      <td>0.0</td>\n",
       "      <td>3433.000000</td>\n",
       "      <td>3189.0</td>\n",
       "      <td>3261.0</td>\n",
       "      <td>3256.000000</td>\n",
       "      <td>3276.0</td>\n",
       "      <td>3391.00000</td>\n",
       "    </tr>\n",
       "    <tr>\n",
       "      <th>3772</th>\n",
       "      <td>9.179528e+04</td>\n",
       "      <td>19.0</td>\n",
       "      <td>0.218613</td>\n",
       "      <td>446.000000</td>\n",
       "      <td>0.0</td>\n",
       "      <td>2.684378e+08</td>\n",
       "      <td>292.0</td>\n",
       "      <td>0.003766</td>\n",
       "      <td>348.0</td>\n",
       "      <td>0.000030</td>\n",
       "      <td>...</td>\n",
       "      <td>0.000000</td>\n",
       "      <td>52493.361231</td>\n",
       "      <td>0.000000</td>\n",
       "      <td>0.0</td>\n",
       "      <td>1202.000000</td>\n",
       "      <td>635.0</td>\n",
       "      <td>571.0</td>\n",
       "      <td>607.000000</td>\n",
       "      <td>401.0</td>\n",
       "      <td>965.00000</td>\n",
       "    </tr>\n",
       "    <tr>\n",
       "      <th>860</th>\n",
       "      <td>1.424234e+06</td>\n",
       "      <td>17.0</td>\n",
       "      <td>0.628500</td>\n",
       "      <td>44854.524543</td>\n",
       "      <td>0.0</td>\n",
       "      <td>4.198400e+06</td>\n",
       "      <td>5.0</td>\n",
       "      <td>0.052265</td>\n",
       "      <td>6.0</td>\n",
       "      <td>0.003745</td>\n",
       "      <td>...</td>\n",
       "      <td>0.000000</td>\n",
       "      <td>0.000000</td>\n",
       "      <td>0.000000</td>\n",
       "      <td>0.0</td>\n",
       "      <td>35.000000</td>\n",
       "      <td>3.0</td>\n",
       "      <td>9.0</td>\n",
       "      <td>9.000000</td>\n",
       "      <td>12.0</td>\n",
       "      <td>100.00000</td>\n",
       "    </tr>\n",
       "  </tbody>\n",
       "</table>\n",
       "<p>3749 rows × 300 columns</p>\n",
       "</div>"
      ],
      "text/plain": [
       "            Img0.1  section_names_header    dc_por         TB_12  \\\n",
       "3311  2.001739e+05                   0.0  0.950888  23758.371546   \n",
       "4370  4.439841e+04                  19.0  0.355571    425.000000   \n",
       "1870 -2.849105e+04                  18.0  0.869786    414.000000   \n",
       "4127  1.305014e+06                  17.0  0.995461   3048.000000   \n",
       "1616  1.531765e+06                  17.0  0.387998   3102.000000   \n",
       "...            ...                   ...       ...           ...   \n",
       "4426  3.956638e+04                  18.0  0.622953    130.000000   \n",
       "466  -1.386314e+05                  19.0  0.045108    383.000000   \n",
       "3092  1.808965e+06                  17.0  0.537245   3175.000000   \n",
       "3772  9.179528e+04                  19.0  0.218613    446.000000   \n",
       "860   1.424234e+06                  17.0  0.628500  44854.524543   \n",
       "\n",
       "      _except_handler3      Offset.1   TB_b5   dd_text   TB_8e     Img35  ...  \\\n",
       "3311               0.0  4.198400e+06   599.0  0.002086   431.0  0.000036  ...   \n",
       "4370               0.0  1.811153e+09   420.0  0.000362   372.0  0.000076  ...   \n",
       "1870               3.0  4.198400e+06   346.0  0.005651   384.0  0.000032  ...   \n",
       "4127               0.0  4.198400e+06  3068.0  0.029582  2972.0  0.001688  ...   \n",
       "1616               0.0  4.198400e+06  3283.0  0.058217  3395.0  0.001549  ...   \n",
       "...                ...           ...     ...       ...     ...       ...  ...   \n",
       "4426               4.0  4.198400e+06   102.0  0.603247   369.0  0.000012  ...   \n",
       "466                0.0  1.877288e+09   328.0  0.000587   380.0  0.000067  ...   \n",
       "3092               0.0  4.198400e+06  3230.0  0.112214  3244.0  0.001550  ...   \n",
       "3772               0.0  2.684378e+08   292.0  0.003766   348.0  0.000030  ...   \n",
       "860                0.0  4.198400e+06     5.0  0.052265     6.0  0.003745  ...   \n",
       "\n",
       "      ImageList_Draw  __vbaStrVarVal  InitCommonControls  __vbaInStr  \\\n",
       "3311        0.000000        0.000000            0.000000         0.0   \n",
       "4370        0.000000        0.000000            0.000000         0.0   \n",
       "1870        0.000000        0.000000         2783.733904         0.0   \n",
       "4127    35031.633322        0.000000            0.000000         0.0   \n",
       "1616    75284.665007        0.000000            0.000000         0.0   \n",
       "...              ...             ...                 ...         ...   \n",
       "4426        0.000000        0.000000            0.000000         0.0   \n",
       "466         0.000000        0.000000            0.000000         0.0   \n",
       "3092        0.000000    19244.623841        37044.614457         0.0   \n",
       "3772        0.000000    52493.361231            0.000000         0.0   \n",
       "860         0.000000        0.000000            0.000000         0.0   \n",
       "\n",
       "             TB_04   TB_11   TB_15         TB_18   TB_42        TB_65  \n",
       "3311   7430.000000   240.0   417.0   8155.000000   476.0  93266.72921  \n",
       "4370   1830.000000   443.0   415.0    544.000000   520.0    891.00000  \n",
       "1870    667.000000   397.0  1138.0    537.000000   395.0   1075.00000  \n",
       "4127   3135.000000  3288.0  3169.0   3120.000000  3079.0   3206.00000  \n",
       "1616  50285.202258  3111.0  3243.0   3158.000000  3271.0   3413.00000  \n",
       "...            ...     ...     ...           ...     ...          ...  \n",
       "4426   1604.000000   180.0   988.0   1006.000000   658.0    291.00000  \n",
       "466    1597.000000   410.0   407.0  83824.046146  1175.0    743.00000  \n",
       "3092   3433.000000  3189.0  3261.0   3256.000000  3276.0   3391.00000  \n",
       "3772   1202.000000   635.0   571.0    607.000000   401.0    965.00000  \n",
       "860      35.000000     3.0     9.0      9.000000    12.0    100.00000  \n",
       "\n",
       "[3749 rows x 300 columns]"
      ]
     },
     "metadata": {},
     "output_type": "display_data"
    }
   ],
   "source": [
    "print('New Train dataframe size',m_X_train.shape)\n",
    "print('New Test dataframe size',m_X_test.shape)\n",
    "display(m_X_train)"
   ]
  },
  {
   "cell_type": "code",
   "execution_count": 15,
   "id": "c814382f",
   "metadata": {},
   "outputs": [
    {
     "data": {
      "text/html": [
       "<style>#sk-container-id-3 {color: black;background-color: white;}#sk-container-id-3 pre{padding: 0;}#sk-container-id-3 div.sk-toggleable {background-color: white;}#sk-container-id-3 label.sk-toggleable__label {cursor: pointer;display: block;width: 100%;margin-bottom: 0;padding: 0.3em;box-sizing: border-box;text-align: center;}#sk-container-id-3 label.sk-toggleable__label-arrow:before {content: \"▸\";float: left;margin-right: 0.25em;color: #696969;}#sk-container-id-3 label.sk-toggleable__label-arrow:hover:before {color: black;}#sk-container-id-3 div.sk-estimator:hover label.sk-toggleable__label-arrow:before {color: black;}#sk-container-id-3 div.sk-toggleable__content {max-height: 0;max-width: 0;overflow: hidden;text-align: left;background-color: #f0f8ff;}#sk-container-id-3 div.sk-toggleable__content pre {margin: 0.2em;color: black;border-radius: 0.25em;background-color: #f0f8ff;}#sk-container-id-3 input.sk-toggleable__control:checked~div.sk-toggleable__content {max-height: 200px;max-width: 100%;overflow: auto;}#sk-container-id-3 input.sk-toggleable__control:checked~label.sk-toggleable__label-arrow:before {content: \"▾\";}#sk-container-id-3 div.sk-estimator input.sk-toggleable__control:checked~label.sk-toggleable__label {background-color: #d4ebff;}#sk-container-id-3 div.sk-label input.sk-toggleable__control:checked~label.sk-toggleable__label {background-color: #d4ebff;}#sk-container-id-3 input.sk-hidden--visually {border: 0;clip: rect(1px 1px 1px 1px);clip: rect(1px, 1px, 1px, 1px);height: 1px;margin: -1px;overflow: hidden;padding: 0;position: absolute;width: 1px;}#sk-container-id-3 div.sk-estimator {font-family: monospace;background-color: #f0f8ff;border: 1px dotted black;border-radius: 0.25em;box-sizing: border-box;margin-bottom: 0.5em;}#sk-container-id-3 div.sk-estimator:hover {background-color: #d4ebff;}#sk-container-id-3 div.sk-parallel-item::after {content: \"\";width: 100%;border-bottom: 1px solid gray;flex-grow: 1;}#sk-container-id-3 div.sk-label:hover label.sk-toggleable__label {background-color: #d4ebff;}#sk-container-id-3 div.sk-serial::before {content: \"\";position: absolute;border-left: 1px solid gray;box-sizing: border-box;top: 0;bottom: 0;left: 50%;z-index: 0;}#sk-container-id-3 div.sk-serial {display: flex;flex-direction: column;align-items: center;background-color: white;padding-right: 0.2em;padding-left: 0.2em;position: relative;}#sk-container-id-3 div.sk-item {position: relative;z-index: 1;}#sk-container-id-3 div.sk-parallel {display: flex;align-items: stretch;justify-content: center;background-color: white;position: relative;}#sk-container-id-3 div.sk-item::before, #sk-container-id-3 div.sk-parallel-item::before {content: \"\";position: absolute;border-left: 1px solid gray;box-sizing: border-box;top: 0;bottom: 0;left: 50%;z-index: -1;}#sk-container-id-3 div.sk-parallel-item {display: flex;flex-direction: column;z-index: 1;position: relative;background-color: white;}#sk-container-id-3 div.sk-parallel-item:first-child::after {align-self: flex-end;width: 50%;}#sk-container-id-3 div.sk-parallel-item:last-child::after {align-self: flex-start;width: 50%;}#sk-container-id-3 div.sk-parallel-item:only-child::after {width: 0;}#sk-container-id-3 div.sk-dashed-wrapped {border: 1px dashed gray;margin: 0 0.4em 0.5em 0.4em;box-sizing: border-box;padding-bottom: 0.4em;background-color: white;}#sk-container-id-3 div.sk-label label {font-family: monospace;font-weight: bold;display: inline-block;line-height: 1.2em;}#sk-container-id-3 div.sk-label-container {text-align: center;}#sk-container-id-3 div.sk-container {/* jupyter's `normalize.less` sets `[hidden] { display: none; }` but bootstrap.min.css set `[hidden] { display: none !important; }` so we also need the `!important` here to be able to override the default hidden behavior on the sphinx rendered scikit-learn.org. See: https://github.com/scikit-learn/scikit-learn/issues/21755 */display: inline-block !important;position: relative;}#sk-container-id-3 div.sk-text-repr-fallback {display: none;}</style><div id=\"sk-container-id-3\" class=\"sk-top-container\"><div class=\"sk-text-repr-fallback\"><pre>DecisionTreeClassifier(criterion=&#x27;entropy&#x27;)</pre><b>In a Jupyter environment, please rerun this cell to show the HTML representation or trust the notebook. <br />On GitHub, the HTML representation is unable to render, please try loading this page with nbviewer.org.</b></div><div class=\"sk-container\" hidden><div class=\"sk-item\"><div class=\"sk-estimator sk-toggleable\"><input class=\"sk-toggleable__control sk-hidden--visually\" id=\"sk-estimator-id-3\" type=\"checkbox\" checked><label for=\"sk-estimator-id-3\" class=\"sk-toggleable__label sk-toggleable__label-arrow\">DecisionTreeClassifier</label><div class=\"sk-toggleable__content\"><pre>DecisionTreeClassifier(criterion=&#x27;entropy&#x27;)</pre></div></div></div></div></div>"
      ],
      "text/plain": [
       "DecisionTreeClassifier(criterion='entropy')"
      ]
     },
     "execution_count": 15,
     "metadata": {},
     "output_type": "execute_result"
    }
   ],
   "source": [
    "# again train the model with selective features\n",
    "\n",
    "entropy_tree = DecisionTreeClassifier(criterion='entropy') \n",
    "entropy_tree.fit(m_X_train, m_y_train)"
   ]
  },
  {
   "cell_type": "code",
   "execution_count": 16,
   "id": "6c2b68d8",
   "metadata": {},
   "outputs": [
    {
     "name": "stdout",
     "output_type": "stream",
     "text": [
      "Train set score on selective features : 1.0\n",
      "Test set score on selective features : 0.8144\n"
     ]
    }
   ],
   "source": [
    "print(\"Train set score on selective features :\",entropy_tree.score(m_X_train,m_y_train))\n",
    "print(\"Test set score on selective features :\",entropy_tree.score(m_X_test,m_y_test))"
   ]
  },
  {
   "cell_type": "markdown",
   "id": "85ad0703",
   "metadata": {},
   "source": [
    "### Precision & Recall:"
   ]
  },
  {
   "cell_type": "code",
   "execution_count": 17,
   "id": "9b867cfb",
   "metadata": {},
   "outputs": [
    {
     "name": "stdout",
     "output_type": "stream",
     "text": [
      "              precision    recall  f1-score   support\n",
      "\n",
      "           1       0.84      0.81      0.82       177\n",
      "           2       0.86      0.88      0.87       274\n",
      "           3       0.90      0.91      0.90       332\n",
      "           4       0.70      0.66      0.68        53\n",
      "           5       0.17      0.08      0.11        24\n",
      "           6       0.71      0.67      0.69        96\n",
      "           7       0.74      0.64      0.69        50\n",
      "           8       0.74      0.78      0.76       134\n",
      "           9       0.76      0.85      0.80       110\n",
      "\n",
      "    accuracy                           0.81      1250\n",
      "   macro avg       0.71      0.70      0.70      1250\n",
      "weighted avg       0.81      0.81      0.81      1250\n",
      "\n"
     ]
    }
   ],
   "source": [
    "# print the precision, recall\n",
    "print(classification_report(entropy_tree.predict(m_X_test),m_y_test))"
   ]
  },
  {
   "cell_type": "markdown",
   "id": "8771b92b",
   "metadata": {},
   "source": [
    "### Though 1400 features are dropped, score remains almost same with slight decrease."
   ]
  },
  {
   "cell_type": "code",
   "execution_count": 18,
   "id": "434221ce",
   "metadata": {},
   "outputs": [],
   "source": [
    "# to ignore the warnings\n",
    "import warnings\n",
    "\n",
    "warnings.filterwarnings('ignore')"
   ]
  },
  {
   "cell_type": "code",
   "execution_count": 19,
   "id": "62e1fba2",
   "metadata": {},
   "outputs": [
    {
     "data": {
      "text/html": [
       "<style>#sk-container-id-4 {color: black;background-color: white;}#sk-container-id-4 pre{padding: 0;}#sk-container-id-4 div.sk-toggleable {background-color: white;}#sk-container-id-4 label.sk-toggleable__label {cursor: pointer;display: block;width: 100%;margin-bottom: 0;padding: 0.3em;box-sizing: border-box;text-align: center;}#sk-container-id-4 label.sk-toggleable__label-arrow:before {content: \"▸\";float: left;margin-right: 0.25em;color: #696969;}#sk-container-id-4 label.sk-toggleable__label-arrow:hover:before {color: black;}#sk-container-id-4 div.sk-estimator:hover label.sk-toggleable__label-arrow:before {color: black;}#sk-container-id-4 div.sk-toggleable__content {max-height: 0;max-width: 0;overflow: hidden;text-align: left;background-color: #f0f8ff;}#sk-container-id-4 div.sk-toggleable__content pre {margin: 0.2em;color: black;border-radius: 0.25em;background-color: #f0f8ff;}#sk-container-id-4 input.sk-toggleable__control:checked~div.sk-toggleable__content {max-height: 200px;max-width: 100%;overflow: auto;}#sk-container-id-4 input.sk-toggleable__control:checked~label.sk-toggleable__label-arrow:before {content: \"▾\";}#sk-container-id-4 div.sk-estimator input.sk-toggleable__control:checked~label.sk-toggleable__label {background-color: #d4ebff;}#sk-container-id-4 div.sk-label input.sk-toggleable__control:checked~label.sk-toggleable__label {background-color: #d4ebff;}#sk-container-id-4 input.sk-hidden--visually {border: 0;clip: rect(1px 1px 1px 1px);clip: rect(1px, 1px, 1px, 1px);height: 1px;margin: -1px;overflow: hidden;padding: 0;position: absolute;width: 1px;}#sk-container-id-4 div.sk-estimator {font-family: monospace;background-color: #f0f8ff;border: 1px dotted black;border-radius: 0.25em;box-sizing: border-box;margin-bottom: 0.5em;}#sk-container-id-4 div.sk-estimator:hover {background-color: #d4ebff;}#sk-container-id-4 div.sk-parallel-item::after {content: \"\";width: 100%;border-bottom: 1px solid gray;flex-grow: 1;}#sk-container-id-4 div.sk-label:hover label.sk-toggleable__label {background-color: #d4ebff;}#sk-container-id-4 div.sk-serial::before {content: \"\";position: absolute;border-left: 1px solid gray;box-sizing: border-box;top: 0;bottom: 0;left: 50%;z-index: 0;}#sk-container-id-4 div.sk-serial {display: flex;flex-direction: column;align-items: center;background-color: white;padding-right: 0.2em;padding-left: 0.2em;position: relative;}#sk-container-id-4 div.sk-item {position: relative;z-index: 1;}#sk-container-id-4 div.sk-parallel {display: flex;align-items: stretch;justify-content: center;background-color: white;position: relative;}#sk-container-id-4 div.sk-item::before, #sk-container-id-4 div.sk-parallel-item::before {content: \"\";position: absolute;border-left: 1px solid gray;box-sizing: border-box;top: 0;bottom: 0;left: 50%;z-index: -1;}#sk-container-id-4 div.sk-parallel-item {display: flex;flex-direction: column;z-index: 1;position: relative;background-color: white;}#sk-container-id-4 div.sk-parallel-item:first-child::after {align-self: flex-end;width: 50%;}#sk-container-id-4 div.sk-parallel-item:last-child::after {align-self: flex-start;width: 50%;}#sk-container-id-4 div.sk-parallel-item:only-child::after {width: 0;}#sk-container-id-4 div.sk-dashed-wrapped {border: 1px dashed gray;margin: 0 0.4em 0.5em 0.4em;box-sizing: border-box;padding-bottom: 0.4em;background-color: white;}#sk-container-id-4 div.sk-label label {font-family: monospace;font-weight: bold;display: inline-block;line-height: 1.2em;}#sk-container-id-4 div.sk-label-container {text-align: center;}#sk-container-id-4 div.sk-container {/* jupyter's `normalize.less` sets `[hidden] { display: none; }` but bootstrap.min.css set `[hidden] { display: none !important; }` so we also need the `!important` here to be able to override the default hidden behavior on the sphinx rendered scikit-learn.org. See: https://github.com/scikit-learn/scikit-learn/issues/21755 */display: inline-block !important;position: relative;}#sk-container-id-4 div.sk-text-repr-fallback {display: none;}</style><div id=\"sk-container-id-4\" class=\"sk-top-container\"><div class=\"sk-text-repr-fallback\"><pre>LogisticRegression()</pre><b>In a Jupyter environment, please rerun this cell to show the HTML representation or trust the notebook. <br />On GitHub, the HTML representation is unable to render, please try loading this page with nbviewer.org.</b></div><div class=\"sk-container\" hidden><div class=\"sk-item\"><div class=\"sk-estimator sk-toggleable\"><input class=\"sk-toggleable__control sk-hidden--visually\" id=\"sk-estimator-id-4\" type=\"checkbox\" checked><label for=\"sk-estimator-id-4\" class=\"sk-toggleable__label sk-toggleable__label-arrow\">LogisticRegression</label><div class=\"sk-toggleable__content\"><pre>LogisticRegression()</pre></div></div></div></div></div>"
      ],
      "text/plain": [
       "LogisticRegression()"
      ]
     },
     "execution_count": 19,
     "metadata": {},
     "output_type": "execute_result"
    }
   ],
   "source": [
    "# train the model with LogisticRegression with selective features\n",
    "\n",
    "log_reg = LogisticRegression(C=1.0)\n",
    "log_reg.fit(m_X_train,m_y_train)"
   ]
  },
  {
   "cell_type": "code",
   "execution_count": 20,
   "id": "190308e5",
   "metadata": {},
   "outputs": [
    {
     "name": "stdout",
     "output_type": "stream",
     "text": [
      "Train set score : 0.5438783675646839\n",
      "Test set score : 0.5624\n"
     ]
    }
   ],
   "source": [
    "print(\"Train set score :\",log_reg.score(m_X_train,m_y_train))\n",
    "print(\"Test set score :\",log_reg.score(m_X_test,m_y_test))"
   ]
  },
  {
   "cell_type": "code",
   "execution_count": 21,
   "id": "84693221",
   "metadata": {},
   "outputs": [
    {
     "data": {
      "text/html": [
       "<style>#sk-container-id-5 {color: black;background-color: white;}#sk-container-id-5 pre{padding: 0;}#sk-container-id-5 div.sk-toggleable {background-color: white;}#sk-container-id-5 label.sk-toggleable__label {cursor: pointer;display: block;width: 100%;margin-bottom: 0;padding: 0.3em;box-sizing: border-box;text-align: center;}#sk-container-id-5 label.sk-toggleable__label-arrow:before {content: \"▸\";float: left;margin-right: 0.25em;color: #696969;}#sk-container-id-5 label.sk-toggleable__label-arrow:hover:before {color: black;}#sk-container-id-5 div.sk-estimator:hover label.sk-toggleable__label-arrow:before {color: black;}#sk-container-id-5 div.sk-toggleable__content {max-height: 0;max-width: 0;overflow: hidden;text-align: left;background-color: #f0f8ff;}#sk-container-id-5 div.sk-toggleable__content pre {margin: 0.2em;color: black;border-radius: 0.25em;background-color: #f0f8ff;}#sk-container-id-5 input.sk-toggleable__control:checked~div.sk-toggleable__content {max-height: 200px;max-width: 100%;overflow: auto;}#sk-container-id-5 input.sk-toggleable__control:checked~label.sk-toggleable__label-arrow:before {content: \"▾\";}#sk-container-id-5 div.sk-estimator input.sk-toggleable__control:checked~label.sk-toggleable__label {background-color: #d4ebff;}#sk-container-id-5 div.sk-label input.sk-toggleable__control:checked~label.sk-toggleable__label {background-color: #d4ebff;}#sk-container-id-5 input.sk-hidden--visually {border: 0;clip: rect(1px 1px 1px 1px);clip: rect(1px, 1px, 1px, 1px);height: 1px;margin: -1px;overflow: hidden;padding: 0;position: absolute;width: 1px;}#sk-container-id-5 div.sk-estimator {font-family: monospace;background-color: #f0f8ff;border: 1px dotted black;border-radius: 0.25em;box-sizing: border-box;margin-bottom: 0.5em;}#sk-container-id-5 div.sk-estimator:hover {background-color: #d4ebff;}#sk-container-id-5 div.sk-parallel-item::after {content: \"\";width: 100%;border-bottom: 1px solid gray;flex-grow: 1;}#sk-container-id-5 div.sk-label:hover label.sk-toggleable__label {background-color: #d4ebff;}#sk-container-id-5 div.sk-serial::before {content: \"\";position: absolute;border-left: 1px solid gray;box-sizing: border-box;top: 0;bottom: 0;left: 50%;z-index: 0;}#sk-container-id-5 div.sk-serial {display: flex;flex-direction: column;align-items: center;background-color: white;padding-right: 0.2em;padding-left: 0.2em;position: relative;}#sk-container-id-5 div.sk-item {position: relative;z-index: 1;}#sk-container-id-5 div.sk-parallel {display: flex;align-items: stretch;justify-content: center;background-color: white;position: relative;}#sk-container-id-5 div.sk-item::before, #sk-container-id-5 div.sk-parallel-item::before {content: \"\";position: absolute;border-left: 1px solid gray;box-sizing: border-box;top: 0;bottom: 0;left: 50%;z-index: -1;}#sk-container-id-5 div.sk-parallel-item {display: flex;flex-direction: column;z-index: 1;position: relative;background-color: white;}#sk-container-id-5 div.sk-parallel-item:first-child::after {align-self: flex-end;width: 50%;}#sk-container-id-5 div.sk-parallel-item:last-child::after {align-self: flex-start;width: 50%;}#sk-container-id-5 div.sk-parallel-item:only-child::after {width: 0;}#sk-container-id-5 div.sk-dashed-wrapped {border: 1px dashed gray;margin: 0 0.4em 0.5em 0.4em;box-sizing: border-box;padding-bottom: 0.4em;background-color: white;}#sk-container-id-5 div.sk-label label {font-family: monospace;font-weight: bold;display: inline-block;line-height: 1.2em;}#sk-container-id-5 div.sk-label-container {text-align: center;}#sk-container-id-5 div.sk-container {/* jupyter's `normalize.less` sets `[hidden] { display: none; }` but bootstrap.min.css set `[hidden] { display: none !important; }` so we also need the `!important` here to be able to override the default hidden behavior on the sphinx rendered scikit-learn.org. See: https://github.com/scikit-learn/scikit-learn/issues/21755 */display: inline-block !important;position: relative;}#sk-container-id-5 div.sk-text-repr-fallback {display: none;}</style><div id=\"sk-container-id-5\" class=\"sk-top-container\"><div class=\"sk-text-repr-fallback\"><pre>LogisticRegression(max_iter=500)</pre><b>In a Jupyter environment, please rerun this cell to show the HTML representation or trust the notebook. <br />On GitHub, the HTML representation is unable to render, please try loading this page with nbviewer.org.</b></div><div class=\"sk-container\" hidden><div class=\"sk-item\"><div class=\"sk-estimator sk-toggleable\"><input class=\"sk-toggleable__control sk-hidden--visually\" id=\"sk-estimator-id-5\" type=\"checkbox\" checked><label for=\"sk-estimator-id-5\" class=\"sk-toggleable__label sk-toggleable__label-arrow\">LogisticRegression</label><div class=\"sk-toggleable__content\"><pre>LogisticRegression(max_iter=500)</pre></div></div></div></div></div>"
      ],
      "text/plain": [
       "LogisticRegression(max_iter=500)"
      ]
     },
     "execution_count": 21,
     "metadata": {},
     "output_type": "execute_result"
    }
   ],
   "source": [
    "# train with max_iter \n",
    "lr = LogisticRegression(penalty='l2', C=1.0, fit_intercept=True, solver='lbfgs', max_iter=500, multi_class='auto')\n",
    "lr.fit(m_X_train,m_y_train)"
   ]
  },
  {
   "cell_type": "code",
   "execution_count": 22,
   "id": "6081fd1c",
   "metadata": {},
   "outputs": [
    {
     "name": "stdout",
     "output_type": "stream",
     "text": [
      "Train set score : 0.618031475060016\n",
      "Test set score : 0.5904\n"
     ]
    }
   ],
   "source": [
    "print(\"Train set score :\",lr.score(m_X_train,m_y_train))\n",
    "print(\"Test set score :\",lr.score(m_X_test,m_y_test))"
   ]
  },
  {
   "cell_type": "markdown",
   "id": "1220dd7b",
   "metadata": {},
   "source": [
    "### Observations from Logistic regression:\n",
    "- Score is very low compared to Decsison Trees.\n",
    "- No better improvement with l2 regularization."
   ]
  },
  {
   "cell_type": "markdown",
   "id": "0ce4b9d6",
   "metadata": {},
   "source": [
    "### Support Vector Machine:"
   ]
  },
  {
   "cell_type": "code",
   "execution_count": 23,
   "id": "e324f6dd",
   "metadata": {},
   "outputs": [
    {
     "name": "stdout",
     "output_type": "stream",
     "text": [
      "SVM score with rbf kernel:  0.368\n"
     ]
    }
   ],
   "source": [
    "# train the model with Support Vector Classifier\n",
    "\n",
    "svm = SVC(kernel='rbf', C=1,gamma='scale',degree=5)\n",
    "svm.fit(m_X_train, m_y_train)\n",
    "print(\"SVM score with rbf kernel: \", accuracy_score(m_y_test, svm.predict(m_X_test)))"
   ]
  },
  {
   "cell_type": "code",
   "execution_count": 24,
   "id": "45af1a2a",
   "metadata": {},
   "outputs": [
    {
     "name": "stdout",
     "output_type": "stream",
     "text": [
      "SVM score with linear kernel:  0.4968\n"
     ]
    }
   ],
   "source": [
    "# train the model with LinearSVC\n",
    "\n",
    "svm = LinearSVC()\n",
    "svm.fit(m_X_train, m_y_train)\n",
    "print(\"SVM score with linear kernel: \", accuracy_score(m_y_test, svm.predict(m_X_test)))"
   ]
  },
  {
   "cell_type": "code",
   "execution_count": 25,
   "id": "79fee4d8",
   "metadata": {},
   "outputs": [
    {
     "name": "stdout",
     "output_type": "stream",
     "text": [
      "[[105  22   1  12   1   8   0  20   9]\n",
      " [ 19 212   3   7   1  17   7  12  50]\n",
      " [  3   4 328   3   8   8  23   6   3]\n",
      " [  3   1   0   3   0   3   0   2   4]\n",
      " [  0   0   0   0   0   0   0   0   0]\n",
      " [  3   7   1   3   0  18   2  19   8]\n",
      " [  0   0   0   0   0   0   7   1   0]\n",
      " [ 27  18   2  14   1  25   3  59  24]\n",
      " [ 11  19   1   8   1  11   1  23  25]]\n"
     ]
    }
   ],
   "source": [
    "# gridsearchcv for Support vector classifier\n",
    "\n",
    "svm_m = modeling_pipeline = Pipeline([('scaling', StandardScaler()),\n",
    "                                       ('model', SVC())])\n",
    "\n",
    "param_grid = [\n",
    "  {'model__C': [0.01, 0.1, 1, 10, 100, 1000], 'model__kernel': ['linear','rbf']}\n",
    "]\n",
    "\n",
    "svm_results = GridSearchCV(estimator=svm_m, param_grid=param_grid, scoring='accuracy', refit=True, cv=5)\n",
    "svm_results = svm_results.fit(m_X_train, m_y_train)\n",
    "\n",
    "print(confusion_matrix(svm_results.predict(m_X_test),m_y_test))"
   ]
  },
  {
   "cell_type": "code",
   "execution_count": 26,
   "id": "d5ab3c36",
   "metadata": {},
   "outputs": [
    {
     "name": "stdout",
     "output_type": "stream",
     "text": [
      "0.6056\n"
     ]
    }
   ],
   "source": [
    "print(svm_results.score(m_X_test, m_y_test))"
   ]
  },
  {
   "cell_type": "code",
   "execution_count": 27,
   "id": "95ca2c36",
   "metadata": {},
   "outputs": [
    {
     "name": "stdout",
     "output_type": "stream",
     "text": [
      "{'model__C': 10, 'model__kernel': 'rbf'}\n"
     ]
    }
   ],
   "source": [
    "print(svm_results.best_params_)"
   ]
  },
  {
   "cell_type": "markdown",
   "id": "aa37ca83",
   "metadata": {},
   "source": [
    "### KNN"
   ]
  },
  {
   "cell_type": "code",
   "execution_count": 28,
   "id": "7b60eb9a",
   "metadata": {},
   "outputs": [
    {
     "data": {
      "text/html": [
       "<style>#sk-container-id-6 {color: black;background-color: white;}#sk-container-id-6 pre{padding: 0;}#sk-container-id-6 div.sk-toggleable {background-color: white;}#sk-container-id-6 label.sk-toggleable__label {cursor: pointer;display: block;width: 100%;margin-bottom: 0;padding: 0.3em;box-sizing: border-box;text-align: center;}#sk-container-id-6 label.sk-toggleable__label-arrow:before {content: \"▸\";float: left;margin-right: 0.25em;color: #696969;}#sk-container-id-6 label.sk-toggleable__label-arrow:hover:before {color: black;}#sk-container-id-6 div.sk-estimator:hover label.sk-toggleable__label-arrow:before {color: black;}#sk-container-id-6 div.sk-toggleable__content {max-height: 0;max-width: 0;overflow: hidden;text-align: left;background-color: #f0f8ff;}#sk-container-id-6 div.sk-toggleable__content pre {margin: 0.2em;color: black;border-radius: 0.25em;background-color: #f0f8ff;}#sk-container-id-6 input.sk-toggleable__control:checked~div.sk-toggleable__content {max-height: 200px;max-width: 100%;overflow: auto;}#sk-container-id-6 input.sk-toggleable__control:checked~label.sk-toggleable__label-arrow:before {content: \"▾\";}#sk-container-id-6 div.sk-estimator input.sk-toggleable__control:checked~label.sk-toggleable__label {background-color: #d4ebff;}#sk-container-id-6 div.sk-label input.sk-toggleable__control:checked~label.sk-toggleable__label {background-color: #d4ebff;}#sk-container-id-6 input.sk-hidden--visually {border: 0;clip: rect(1px 1px 1px 1px);clip: rect(1px, 1px, 1px, 1px);height: 1px;margin: -1px;overflow: hidden;padding: 0;position: absolute;width: 1px;}#sk-container-id-6 div.sk-estimator {font-family: monospace;background-color: #f0f8ff;border: 1px dotted black;border-radius: 0.25em;box-sizing: border-box;margin-bottom: 0.5em;}#sk-container-id-6 div.sk-estimator:hover {background-color: #d4ebff;}#sk-container-id-6 div.sk-parallel-item::after {content: \"\";width: 100%;border-bottom: 1px solid gray;flex-grow: 1;}#sk-container-id-6 div.sk-label:hover label.sk-toggleable__label {background-color: #d4ebff;}#sk-container-id-6 div.sk-serial::before {content: \"\";position: absolute;border-left: 1px solid gray;box-sizing: border-box;top: 0;bottom: 0;left: 50%;z-index: 0;}#sk-container-id-6 div.sk-serial {display: flex;flex-direction: column;align-items: center;background-color: white;padding-right: 0.2em;padding-left: 0.2em;position: relative;}#sk-container-id-6 div.sk-item {position: relative;z-index: 1;}#sk-container-id-6 div.sk-parallel {display: flex;align-items: stretch;justify-content: center;background-color: white;position: relative;}#sk-container-id-6 div.sk-item::before, #sk-container-id-6 div.sk-parallel-item::before {content: \"\";position: absolute;border-left: 1px solid gray;box-sizing: border-box;top: 0;bottom: 0;left: 50%;z-index: -1;}#sk-container-id-6 div.sk-parallel-item {display: flex;flex-direction: column;z-index: 1;position: relative;background-color: white;}#sk-container-id-6 div.sk-parallel-item:first-child::after {align-self: flex-end;width: 50%;}#sk-container-id-6 div.sk-parallel-item:last-child::after {align-self: flex-start;width: 50%;}#sk-container-id-6 div.sk-parallel-item:only-child::after {width: 0;}#sk-container-id-6 div.sk-dashed-wrapped {border: 1px dashed gray;margin: 0 0.4em 0.5em 0.4em;box-sizing: border-box;padding-bottom: 0.4em;background-color: white;}#sk-container-id-6 div.sk-label label {font-family: monospace;font-weight: bold;display: inline-block;line-height: 1.2em;}#sk-container-id-6 div.sk-label-container {text-align: center;}#sk-container-id-6 div.sk-container {/* jupyter's `normalize.less` sets `[hidden] { display: none; }` but bootstrap.min.css set `[hidden] { display: none !important; }` so we also need the `!important` here to be able to override the default hidden behavior on the sphinx rendered scikit-learn.org. See: https://github.com/scikit-learn/scikit-learn/issues/21755 */display: inline-block !important;position: relative;}#sk-container-id-6 div.sk-text-repr-fallback {display: none;}</style><div id=\"sk-container-id-6\" class=\"sk-top-container\"><div class=\"sk-text-repr-fallback\"><pre>KNeighborsClassifier(n_neighbors=9)</pre><b>In a Jupyter environment, please rerun this cell to show the HTML representation or trust the notebook. <br />On GitHub, the HTML representation is unable to render, please try loading this page with nbviewer.org.</b></div><div class=\"sk-container\" hidden><div class=\"sk-item\"><div class=\"sk-estimator sk-toggleable\"><input class=\"sk-toggleable__control sk-hidden--visually\" id=\"sk-estimator-id-6\" type=\"checkbox\" checked><label for=\"sk-estimator-id-6\" class=\"sk-toggleable__label sk-toggleable__label-arrow\">KNeighborsClassifier</label><div class=\"sk-toggleable__content\"><pre>KNeighborsClassifier(n_neighbors=9)</pre></div></div></div></div></div>"
      ],
      "text/plain": [
       "KNeighborsClassifier(n_neighbors=9)"
      ]
     },
     "execution_count": 28,
     "metadata": {},
     "output_type": "execute_result"
    }
   ],
   "source": [
    "# train the model with KNN\n",
    "\n",
    "knn = KNeighborsClassifier(n_neighbors=9)\n",
    "knn.fit(m_X_train,m_y_train)"
   ]
  },
  {
   "cell_type": "code",
   "execution_count": 29,
   "id": "6f8c2087",
   "metadata": {},
   "outputs": [
    {
     "name": "stdout",
     "output_type": "stream",
     "text": [
      "Train score : 0.6649773272872767\n",
      "Test score : 0.5808\n"
     ]
    }
   ],
   "source": [
    "print('Train score :',knn.score(m_X_train, m_y_train))\n",
    "print('Test score :',knn.score(m_X_test, m_y_test))"
   ]
  },
  {
   "cell_type": "markdown",
   "id": "452108a9",
   "metadata": {},
   "source": [
    "### Observation:\n",
    "- SVM and KNN classifiers scores are very low compared to DecisionTree Classifier."
   ]
  },
  {
   "cell_type": "markdown",
   "id": "3676b89f",
   "metadata": {},
   "source": [
    "### Random Forest:"
   ]
  },
  {
   "cell_type": "code",
   "execution_count": 30,
   "id": "8616e9f2",
   "metadata": {},
   "outputs": [
    {
     "data": {
      "text/html": [
       "<style>#sk-container-id-7 {color: black;background-color: white;}#sk-container-id-7 pre{padding: 0;}#sk-container-id-7 div.sk-toggleable {background-color: white;}#sk-container-id-7 label.sk-toggleable__label {cursor: pointer;display: block;width: 100%;margin-bottom: 0;padding: 0.3em;box-sizing: border-box;text-align: center;}#sk-container-id-7 label.sk-toggleable__label-arrow:before {content: \"▸\";float: left;margin-right: 0.25em;color: #696969;}#sk-container-id-7 label.sk-toggleable__label-arrow:hover:before {color: black;}#sk-container-id-7 div.sk-estimator:hover label.sk-toggleable__label-arrow:before {color: black;}#sk-container-id-7 div.sk-toggleable__content {max-height: 0;max-width: 0;overflow: hidden;text-align: left;background-color: #f0f8ff;}#sk-container-id-7 div.sk-toggleable__content pre {margin: 0.2em;color: black;border-radius: 0.25em;background-color: #f0f8ff;}#sk-container-id-7 input.sk-toggleable__control:checked~div.sk-toggleable__content {max-height: 200px;max-width: 100%;overflow: auto;}#sk-container-id-7 input.sk-toggleable__control:checked~label.sk-toggleable__label-arrow:before {content: \"▾\";}#sk-container-id-7 div.sk-estimator input.sk-toggleable__control:checked~label.sk-toggleable__label {background-color: #d4ebff;}#sk-container-id-7 div.sk-label input.sk-toggleable__control:checked~label.sk-toggleable__label {background-color: #d4ebff;}#sk-container-id-7 input.sk-hidden--visually {border: 0;clip: rect(1px 1px 1px 1px);clip: rect(1px, 1px, 1px, 1px);height: 1px;margin: -1px;overflow: hidden;padding: 0;position: absolute;width: 1px;}#sk-container-id-7 div.sk-estimator {font-family: monospace;background-color: #f0f8ff;border: 1px dotted black;border-radius: 0.25em;box-sizing: border-box;margin-bottom: 0.5em;}#sk-container-id-7 div.sk-estimator:hover {background-color: #d4ebff;}#sk-container-id-7 div.sk-parallel-item::after {content: \"\";width: 100%;border-bottom: 1px solid gray;flex-grow: 1;}#sk-container-id-7 div.sk-label:hover label.sk-toggleable__label {background-color: #d4ebff;}#sk-container-id-7 div.sk-serial::before {content: \"\";position: absolute;border-left: 1px solid gray;box-sizing: border-box;top: 0;bottom: 0;left: 50%;z-index: 0;}#sk-container-id-7 div.sk-serial {display: flex;flex-direction: column;align-items: center;background-color: white;padding-right: 0.2em;padding-left: 0.2em;position: relative;}#sk-container-id-7 div.sk-item {position: relative;z-index: 1;}#sk-container-id-7 div.sk-parallel {display: flex;align-items: stretch;justify-content: center;background-color: white;position: relative;}#sk-container-id-7 div.sk-item::before, #sk-container-id-7 div.sk-parallel-item::before {content: \"\";position: absolute;border-left: 1px solid gray;box-sizing: border-box;top: 0;bottom: 0;left: 50%;z-index: -1;}#sk-container-id-7 div.sk-parallel-item {display: flex;flex-direction: column;z-index: 1;position: relative;background-color: white;}#sk-container-id-7 div.sk-parallel-item:first-child::after {align-self: flex-end;width: 50%;}#sk-container-id-7 div.sk-parallel-item:last-child::after {align-self: flex-start;width: 50%;}#sk-container-id-7 div.sk-parallel-item:only-child::after {width: 0;}#sk-container-id-7 div.sk-dashed-wrapped {border: 1px dashed gray;margin: 0 0.4em 0.5em 0.4em;box-sizing: border-box;padding-bottom: 0.4em;background-color: white;}#sk-container-id-7 div.sk-label label {font-family: monospace;font-weight: bold;display: inline-block;line-height: 1.2em;}#sk-container-id-7 div.sk-label-container {text-align: center;}#sk-container-id-7 div.sk-container {/* jupyter's `normalize.less` sets `[hidden] { display: none; }` but bootstrap.min.css set `[hidden] { display: none !important; }` so we also need the `!important` here to be able to override the default hidden behavior on the sphinx rendered scikit-learn.org. See: https://github.com/scikit-learn/scikit-learn/issues/21755 */display: inline-block !important;position: relative;}#sk-container-id-7 div.sk-text-repr-fallback {display: none;}</style><div id=\"sk-container-id-7\" class=\"sk-top-container\"><div class=\"sk-text-repr-fallback\"><pre>RandomForestClassifier()</pre><b>In a Jupyter environment, please rerun this cell to show the HTML representation or trust the notebook. <br />On GitHub, the HTML representation is unable to render, please try loading this page with nbviewer.org.</b></div><div class=\"sk-container\" hidden><div class=\"sk-item\"><div class=\"sk-estimator sk-toggleable\"><input class=\"sk-toggleable__control sk-hidden--visually\" id=\"sk-estimator-id-7\" type=\"checkbox\" checked><label for=\"sk-estimator-id-7\" class=\"sk-toggleable__label sk-toggleable__label-arrow\">RandomForestClassifier</label><div class=\"sk-toggleable__content\"><pre>RandomForestClassifier()</pre></div></div></div></div></div>"
      ],
      "text/plain": [
       "RandomForestClassifier()"
      ]
     },
     "execution_count": 30,
     "metadata": {},
     "output_type": "execute_result"
    }
   ],
   "source": [
    "# train the model with RandomForestClassifier\n",
    "\n",
    "rfc = RandomForestClassifier(n_estimators = 100)\n",
    "rfc.fit(m_X_train, m_y_train)"
   ]
  },
  {
   "cell_type": "markdown",
   "id": "c337fc82",
   "metadata": {},
   "source": [
    "### Random Forest Score:"
   ]
  },
  {
   "cell_type": "code",
   "execution_count": 31,
   "id": "42805f99",
   "metadata": {},
   "outputs": [
    {
     "name": "stdout",
     "output_type": "stream",
     "text": [
      "Train dataset score :  1.0\n",
      "Test dataset score :  0.9112\n"
     ]
    }
   ],
   "source": [
    "# Random Forest classifier scores\n",
    "\n",
    "print(\"Train dataset score : \", accuracy_score(m_y_train, rfc.predict(m_X_train)))\n",
    "print(\"Test dataset score : \", accuracy_score(m_y_test, rfc.predict(m_X_test)))"
   ]
  },
  {
   "cell_type": "code",
   "execution_count": 32,
   "id": "cabbbc32",
   "metadata": {},
   "outputs": [
    {
     "name": "stdout",
     "output_type": "stream",
     "text": [
      "[[162   5   1   4   1   2   0   9   2]\n",
      " [  3 265   6   3   1   2   2   2   4]\n",
      " [  2   4 328   1   5   6   0   4   2]\n",
      " [  0   0   0  38   0   3   0   1   0]\n",
      " [  0   0   0   0   4   0   0   0   0]\n",
      " [  1   4   0   2   1  72   1   3   1]\n",
      " [  0   0   0   0   0   0  38   0   0]\n",
      " [  3   3   1   1   0   2   2 121   3]\n",
      " [  0   2   0   1   0   3   0   2 111]]\n"
     ]
    }
   ],
   "source": [
    "print(confusion_matrix(rfc.predict(m_X_test),m_y_test))"
   ]
  },
  {
   "cell_type": "code",
   "execution_count": 33,
   "id": "cadf42d0",
   "metadata": {},
   "outputs": [
    {
     "name": "stdout",
     "output_type": "stream",
     "text": [
      "              precision    recall  f1-score   support\n",
      "\n",
      "           1       0.95      0.87      0.91       186\n",
      "           2       0.94      0.92      0.93       288\n",
      "           3       0.98      0.93      0.95       352\n",
      "           4       0.76      0.90      0.83        42\n",
      "           5       0.33      1.00      0.50         4\n",
      "           6       0.80      0.85      0.82        85\n",
      "           7       0.88      1.00      0.94        38\n",
      "           8       0.85      0.89      0.87       136\n",
      "           9       0.90      0.93      0.92       119\n",
      "\n",
      "    accuracy                           0.91      1250\n",
      "   macro avg       0.82      0.92      0.85      1250\n",
      "weighted avg       0.92      0.91      0.91      1250\n",
      "\n"
     ]
    }
   ],
   "source": [
    "print(classification_report(rfc.predict(m_X_test),m_y_test))"
   ]
  },
  {
   "cell_type": "code",
   "execution_count": 34,
   "id": "ccfd8b4c",
   "metadata": {},
   "outputs": [
    {
     "name": "stdout",
     "output_type": "stream",
     "text": [
      "[0.892      0.88933333 0.90933333 0.908      0.90921228]\n"
     ]
    }
   ],
   "source": [
    "# ref from https://stackabuse.com/cross-validation-and-grid-search-for-model-selection-in-python/\n",
    "\n",
    "all_accuracies = cross_val_score(estimator=rfc, X=m_X_train, y=m_y_train, cv=5)\n",
    "print(all_accuracies)"
   ]
  },
  {
   "cell_type": "markdown",
   "id": "c852dc73",
   "metadata": {},
   "source": [
    "### GridSearchCV for RandomForestClassifier:"
   ]
  },
  {
   "cell_type": "code",
   "execution_count": 35,
   "id": "74046c90",
   "metadata": {},
   "outputs": [],
   "source": [
    "parameters = {\n",
    "    'n_estimators': (100,200),\n",
    "    'max_depth': (5, 10, 20)\n",
    "    #'min_samples_split': (2, 3, 5, 8, 10)\n",
    "   }\n",
    "\n",
    "rfc_grid = GridSearchCV(RandomForestClassifier(),param_grid = parameters,cv = 3)    "
   ]
  },
  {
   "cell_type": "code",
   "execution_count": 36,
   "id": "c4a0f3cc",
   "metadata": {},
   "outputs": [
    {
     "name": "stdout",
     "output_type": "stream",
     "text": [
      "Random Forest GridSearchCV Best Score : 0.9010433947157725\n",
      "Random Forest Best params : {'max_depth': 20, 'n_estimators': 200}\n"
     ]
    }
   ],
   "source": [
    "# train the model with GridSearchCV\n",
    "model = rfc_grid.fit(m_X_train,m_y_train)\n",
    "print('Random Forest GridSearchCV Best Score :',model.best_score_)\n",
    "print('Random Forest Best params :',model.best_params_)"
   ]
  },
  {
   "cell_type": "markdown",
   "id": "191e1bb3",
   "metadata": {},
   "source": [
    "## DecisionTreeClassifier parameter Tuning:"
   ]
  },
  {
   "cell_type": "code",
   "execution_count": 37,
   "id": "585182de",
   "metadata": {},
   "outputs": [
    {
     "name": "stdout",
     "output_type": "stream",
     "text": [
      "[[151   7   3   4   1   4   0  10   2]\n",
      " [  3 260   6   3   1   2   3   3   3]\n",
      " [  2   4 323   1   5   8   1   5   2]\n",
      " [  1   2   0  36   0   3   1   1   0]\n",
      " [  0   0   1   0   2   0   1   0   2]\n",
      " [  5   3   0   2   3  67   1   3   0]\n",
      " [  1   2   0   1   0   1  34   0   1]\n",
      " [  8   3   3   2   0   4   2 117   7]\n",
      " [  0   2   0   1   0   1   0   3 106]]\n"
     ]
    }
   ],
   "source": [
    "tree_pipeline = modeling_pipeline = Pipeline([('scaling', StandardScaler()),\n",
    "                                       ('model', DecisionTreeClassifier())])\n",
    "\n",
    "param_grid = [ {\n",
    "   'model__max_depth': [5, 10, 20, 50, 100, 200],\n",
    "   'model__min_samples_split':[3, 5, 10, 15, 20, 30], \n",
    "   'model__criterion': ['gini','entropy']}\n",
    "]\n",
    "\n",
    "tree_results = GridSearchCV(estimator=tree_pipeline, param_grid=param_grid, scoring='accuracy', refit=True, cv=5)\n",
    "tree_results = tree_results.fit(m_X_train, m_y_train)\n",
    "\n",
    "print(confusion_matrix(tree_results.predict(m_X_test),m_y_test))"
   ]
  },
  {
   "cell_type": "markdown",
   "id": "d6ec0b99",
   "metadata": {},
   "source": [
    "## Decision Tree Score & Best Params:"
   ]
  },
  {
   "cell_type": "code",
   "execution_count": 38,
   "id": "5d0c477f",
   "metadata": {},
   "outputs": [
    {
     "name": "stdout",
     "output_type": "stream",
     "text": [
      "0.8768\n"
     ]
    }
   ],
   "source": [
    "# DecisionTree gridsearchcv score \n",
    "print(tree_results.score(m_X_test, m_y_test))"
   ]
  },
  {
   "cell_type": "code",
   "execution_count": 39,
   "id": "ab9e87bb",
   "metadata": {},
   "outputs": [
    {
     "name": "stdout",
     "output_type": "stream",
     "text": [
      "{'model__criterion': 'gini', 'model__max_depth': 10, 'model__min_samples_split': 5}\n"
     ]
    }
   ],
   "source": [
    "# DecisionTree gridsearchcv best params \n",
    "print(tree_results.best_params_)"
   ]
  },
  {
   "cell_type": "markdown",
   "id": "0b562685",
   "metadata": {},
   "source": [
    "### Score V/s Max depth "
   ]
  },
  {
   "cell_type": "code",
   "execution_count": 40,
   "id": "80a5f6c1",
   "metadata": {},
   "outputs": [
    {
     "data": {
      "image/png": "[encoded data removed]",
      "text/plain": [
       "<Figure size 432x288 with 1 Axes>"
      ]
     },
     "metadata": {
      "needs_background": "light"
     },
     "output_type": "display_data"
    }
   ],
   "source": [
    "max_depths = [2, 5, 10, 15, 20, 30]\n",
    "scores = np.zeros(len(max_depths))\n",
    "index = 0\n",
    "\n",
    "for d in max_depths:\n",
    "    tree = DecisionTreeClassifier(max_depth=d, min_samples_split=5)\n",
    "    tree.fit(m_X_train,m_y_train)\n",
    "    u=tree.score(m_X_test, m_y_test)\n",
    "    scores[index]=u\n",
    "    index+=1\n",
    "\n",
    "x = np.array(range(0,len(max_depths)))\n",
    "plt.plot(max_depths, scores)\n",
    "plt.title('Depth V/s Score')\n",
    "plt.xlabel('max_depth')\n",
    "plt.ylabel('Score')\n",
    "plt.show()    "
   ]
  },
  {
   "cell_type": "markdown",
   "id": "b384460a",
   "metadata": {},
   "source": [
    "### Observation:\n",
    "- From the above GridSearchCV and plotted graph, we can see that max score of 0.87 is achievable with Decision score.\n",
    "- max_depth : 10\n",
    "- Criteria : 'gini'\n",
    "- min_samples_split : 5"
   ]
  },
  {
   "cell_type": "markdown",
   "id": "2f9bba7a",
   "metadata": {},
   "source": [
    "## Conclusion\n",
    "- The original dataset has 1805 columns but most of columns are having zero or low importances. So I started training the model with top 100,200,300,.....features. After 300 features, there is no improvement in accuracy. Hence I took top 300 features.\n",
    "- With Logistic regression, SVM and KNN classifiers, the accuracy is **~ 60 %**, which is low. \n",
    "- With Decision trees the initial accuracy is of **82 %**. With paramter tuning, I have achieved **87 %** accuracy with 'gini' entropy and max_depth=10.\n",
    "- With RandomForestClassifier the results are **91 %** accurate . \n",
    "- In comparision with all the models, **RandomForest** fits better to this dataset."
   ]
  }
 ],
 "metadata": {
  "kernelspec": {
   "display_name": "Python 3 (ipykernel)",
   "language": "python",
   "name": "python3"
  },
  "language_info": {
   "codemirror_mode": {
    "name": "ipython",
    "version": 3
   },
   "file_extension": ".py",
   "mimetype": "text/x-python",
   "name": "python",
   "nbconvert_exporter": "python",
   "pygments_lexer": "ipython3",
   "version": "3.10.2"
  }
 },
 "nbformat": 4,
 "nbformat_minor": 5
}
