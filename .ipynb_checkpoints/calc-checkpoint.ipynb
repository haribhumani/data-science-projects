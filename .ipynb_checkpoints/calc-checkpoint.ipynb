{
 "cells": [
  {
   "cell_type": "markdown",
   "id": "696867b9",
   "metadata": {},
   "source": [
    "# Split Wise Calculator\n",
    "- Python code for simplified Split-Wise application.\n",
    "- People who are living together share their expenses among with others.\n",
    "- To efficient share their their expenses and calculate their monthly expenses."
   ]
  },
  {
   "cell_type": "code",
   "execution_count": 1,
   "id": "270adf4b",
   "metadata": {},
   "outputs": [],
   "source": [
    "from datetime import date\n",
    "from datetime import datetime\n",
    "import random\n",
    "import math\n",
    "\n",
    "persons = {}\n",
    "\n",
    "class Person:\n",
    "    \n",
    "    def __init__(self, _id, name):\n",
    "        self.id = _id\n",
    "        self.name = name.strip()\n",
    "        self.owe_to = {}\n",
    "        self.owe_from = {}\n",
    "        self.paid_expenses = []\n",
    "        # (year, month) -> amount\n",
    "        # so it would be easier to show the month expenditure per person\n",
    "        # we cannot track from owe_to or owe_from, as they will be modified everytime\n",
    "        self.monthly_expenses = {}\n",
    "        persons[self.id] = self\n",
    "    \n",
    "    def print_monthly_expenses(self):\n",
    "        \n",
    "        print(\"Monthly Expenses of {}\".format(self.name))\n",
    "        print(\"\\n{:<6}   {:<5}\".format('YY-MM','Amount'))\n",
    "        \n",
    "        for _date, amount in self.monthly_expenses.items():\n",
    "            print(\"{:<6}   ${:<5}\".format(str(_date[0])+'-'+str(_date[1]), amount))\n",
    "    \n",
    "    def paid_expenses(self):\n",
    "        return self.paid_expenses\n",
    "        \n",
    "    \n",
    "    def __str__(self):\n",
    "         return f'\\n Person(\"Id\" : {self.id}, \"Name\": {self.name}, \"Owe_to\" : {self.owe_to}, \"Owe_from\" : {self.owe_from})'\n",
    "\n",
    "    def __repr__(self):\n",
    "         return f'\\n Person(\"Id\" : {self.id}, \"Name\": {self.name}, \"Owe_to\" : {self.owe_to}, \"Owe_from\" : {self.owe_from})'         "
   ]
  },
  {
   "cell_type": "code",
   "execution_count": 2,
   "id": "114de78a",
   "metadata": {},
   "outputs": [],
   "source": [
    "class App:\n",
    "    \n",
    "    def __init__(self):\n",
    "        self.persons = []\n",
    "        self.num_persons = 0\n",
    "        self.expenses = []\n",
    "    \n",
    "    def get_num_persons(self):\n",
    "        return self.num_persons\n",
    "    \n",
    "    def get_persons(self):\n",
    "        return self.persons\n",
    "    \n",
    "    def add_person(self, person):\n",
    "        self.num_persons += 1\n",
    "        self.persons.append(person)\n",
    "    \n",
    "    def add_expense(self, expense):\n",
    "        self.expenses.append(expense)\n",
    "    \n",
    "    def settle_up(self, paid_by, paid_to, amount):\n",
    "        paid_by.owe_to[paid_to.id] -= amount\n",
    "        paid_to.owe_from[paid_by.id] -= amount\n",
    "        \n",
    "        # if there is no balance, then pop the id from both persons\n",
    "        if paid_by.owe_to[paid_to.id] == 0.0:\n",
    "            paid_by.owe_to.pop(paid_to.id)\n",
    "            paid_to.owe_from.pop(paid_by.id)\n",
    "                \n",
    "            \n",
    "    def __str__(self):\n",
    "        return f'App(\"Persons\" : {self.persons}, \"\\n Expenses\" : {self.expenses})'\n",
    "    \n",
    "    def __repr__(self):\n",
    "        return f'App(\"Persons\" : {self.persons}, \"\\n Expenses\" : {self.expenses})'"
   ]
  },
  {
   "cell_type": "markdown",
   "id": "9afa3c75",
   "metadata": {},
   "source": [
    "## Utility to split the total amount into n equal parts"
   ]
  },
  {
   "cell_type": "code",
   "execution_count": 3,
   "id": "dee5b257",
   "metadata": {},
   "outputs": [],
   "source": [
    "# it may not be possible sometimes to split the amount into equal, their would be difference in few cents\n",
    "# so some people may charged excess or low by 0.01 dollar\n",
    "class Utils:\n",
    "    \n",
    "    @staticmethod\n",
    "    def split(amount, n=len(persons)):\n",
    "        \n",
    "        share = round(amount/n,2)\n",
    "        \n",
    "        shares = [share] * n\n",
    "        calc_amount = share*n\n",
    "        \n",
    "        # diff is +0.02, then substract 0.01 from 2 people, \n",
    "        # diff is -0.02, then add 0.01 to 2 people\n",
    "        extra = int(round(abs(calc_amount-amount),2)*100)\n",
    "        \n",
    "        # take random index of n people to add/substract 0.01\n",
    "        to_adjust_shares =  random.sample(range(n),extra)\n",
    "        \n",
    "        if calc_amount > amount:\n",
    "            \n",
    "            for index in to_adjust_shares:\n",
    "                shares[index] -= 0.01 \n",
    "        \n",
    "        elif calc_amount < amount:\n",
    "            \n",
    "            for index in to_adjust_shares:\n",
    "                shares[index] += 0.01\n",
    "        \n",
    "        return shares"
   ]
  },
  {
   "cell_type": "markdown",
   "id": "5a749ad3",
   "metadata": {},
   "source": [
    "### Split Sample:"
   ]
  },
  {
   "cell_type": "code",
   "execution_count": 4,
   "id": "d4e134f5",
   "metadata": {},
   "outputs": [
    {
     "name": "stdout",
     "output_type": "stream",
     "text": [
      "[2.99, 2.99, 3.0, 3.0, 3.0, 3.0] 17.98\n"
     ]
    }
   ],
   "source": [
    "# 2 people charged 0.01 less to make the sum(shares) == total_amount\n",
    "arr = Utils.split(17.98, 6)\n",
    "print(arr, sum(arr))"
   ]
  },
  {
   "cell_type": "code",
   "execution_count": 5,
   "id": "168d3a8e",
   "metadata": {},
   "outputs": [],
   "source": [
    "class Expense:\n",
    "    \n",
    "    num = 0\n",
    "    \n",
    "    def __init__(self, title, amount, paid_by_person, people_involved=persons, order_date=date.today()):\n",
    "        \n",
    "        Expense.num += 1\n",
    "        self.id = Expense.num\n",
    "        self.title = title.strip()\n",
    "        # parse if order date is string\n",
    "        self.date = datetime.date(datetime.strptime(order_date, \"%Y-%m-%d\")) if isinstance(order_date, str) else order_date\n",
    "        \n",
    "        self.total_amount = float(amount)\n",
    "        \n",
    "        # people involved for this expense,\n",
    "        # not all the people need to involved for an expense\n",
    "        self.people_involved = [person.id for person in people_involved]\n",
    "        \n",
    "        # append to the person who paid the expense with (expense_id, amount)\n",
    "        paid_by_person.paid_expenses.append(self.id)\n",
    "        \n",
    "        # calculate each share for the people involved\n",
    "        shares = Utils.split(self.total_amount, len(people_involved))\n",
    "        \n",
    "        # add each share to the people with the below logic\n",
    "        for person, share in zip(people_involved, shares):\n",
    "            \n",
    "            # capture each person per each month, including the paid person\n",
    "            person.monthly_expenses[(self.date.year, self.date.month)] = share + person.monthly_expenses.get((self.date.year, self.date.month),0.0)\n",
    "            \n",
    "            # don't include the paid person, he needs to owe_from others\n",
    "            if person.id == paid_by_person.id:\n",
    "                continue\n",
    "            \n",
    "            # default -1 -> to avoid 0 >= 0 intially\n",
    "            if paid_by_person.owe_to.get(person.id, -1) >= share:\n",
    "                # reduce the share for paid_by_person owe_to(to give) person\n",
    "                # reduce the share person owe from(to collect) paid_by_person \n",
    "                paid_by_person.owe_to[person.id] -= share\n",
    "                person.owe_from[paid_by_person.id] -= share\n",
    "            else:\n",
    "                person.owe_to[paid_by_person.id] = share + person.owe_to.get(paid_by_person.id,0)\n",
    "                paid_by_person.owe_from[person.id] = share + paid_by_person.owe_from.get(person.id,0)\n",
    "\n",
    "    def __str__(self):\n",
    "         return f'\\n Expense(\"Id\": {self.id} , \"Title\": {self.title}, \"Date\": {self.date}, \"Total_amount\": {self.total_amount}, \"Involved\": {self.people_involved})'\n",
    "\n",
    "    def __repr__(self):\n",
    "         return f'\\n Expense(\"Id\": {self.id} , \"Title\": {self.title}, \"Date\": {self.date}, \"Total_amount\": {self.total_amount}, \"Involved\": {self.people_involved})' \n",
    "        "
   ]
  },
  {
   "cell_type": "code",
   "execution_count": 6,
   "id": "cec4c34e",
   "metadata": {},
   "outputs": [],
   "source": [
    "person1 = Person(1, 'Hari')\n",
    "person2 = Person(2, 'Krishna')\n",
    "person3 = Person(3, 'Moksh')"
   ]
  },
  {
   "cell_type": "code",
   "execution_count": 7,
   "id": "0bca54c5",
   "metadata": {},
   "outputs": [
    {
     "name": "stdout",
     "output_type": "stream",
     "text": [
      "\n",
      " Person(\"Id\" : 1, \"Name\": Hari, \"Owe_to\" : {}, \"Owe_from\" : {})\n",
      "\n",
      " Person(\"Id\" : 2, \"Name\": Krishna, \"Owe_to\" : {}, \"Owe_from\" : {})\n",
      "\n",
      " Person(\"Id\" : 3, \"Name\": Moksh, \"Owe_to\" : {}, \"Owe_from\" : {})\n"
     ]
    }
   ],
   "source": [
    "print(person1)\n",
    "print(person2)\n",
    "print(person3)"
   ]
  },
  {
   "cell_type": "code",
   "execution_count": 8,
   "id": "a66cc22b",
   "metadata": {},
   "outputs": [],
   "source": [
    "app = App()\n",
    "\n",
    "app.add_person(person1)\n",
    "app.add_person(person2)\n",
    "app.add_person(person3)"
   ]
  },
  {
   "cell_type": "code",
   "execution_count": 9,
   "id": "c5966670",
   "metadata": {},
   "outputs": [],
   "source": [
    "expense1 = Expense('Giant',24, person3, app.get_persons())\n",
    "app.add_expense(expense1)\n",
    "\n",
    "expense2 = Expense('Walmart',9, person3, app.get_persons(),'2022-11-25')\n",
    "app.add_expense(expense2)\n",
    "\n",
    "expense3 = Expense('Cosco',6, person2, app.get_persons())\n",
    "app.add_expense(expense3)"
   ]
  },
  {
   "cell_type": "code",
   "execution_count": 10,
   "id": "666b8264",
   "metadata": {},
   "outputs": [
    {
     "name": "stdout",
     "output_type": "stream",
     "text": [
      "App(\"Persons\" : [\n",
      " Person(\"Id\" : 1, \"Name\": Hari, \"Owe_to\" : {3: 11.0, 2: 2.0}, \"Owe_from\" : {}), \n",
      " Person(\"Id\" : 2, \"Name\": Krishna, \"Owe_to\" : {3: 9.0}, \"Owe_from\" : {1: 2.0}), \n",
      " Person(\"Id\" : 3, \"Name\": Moksh, \"Owe_to\" : {}, \"Owe_from\" : {1: 11.0, 2: 9.0})], \"\n",
      " Expenses\" : [\n",
      " Expense(\"Id\": 1 , \"Title\": Giant, \"Date\": 2022-12-04, \"Total_amount\": 24.0, \"Involved\": [1, 2, 3]), \n",
      " Expense(\"Id\": 2 , \"Title\": Walmart, \"Date\": 2022-11-25, \"Total_amount\": 9.0, \"Involved\": [1, 2, 3]), \n",
      " Expense(\"Id\": 3 , \"Title\": Cosco, \"Date\": 2022-12-04, \"Total_amount\": 6.0, \"Involved\": [1, 2, 3])])\n"
     ]
    }
   ],
   "source": [
    "print(app)"
   ]
  },
  {
   "cell_type": "code",
   "execution_count": 11,
   "id": "32d4d87e",
   "metadata": {},
   "outputs": [
    {
     "name": "stdout",
     "output_type": "stream",
     "text": [
      "Monthly Expenses of Hari\n",
      "\n",
      "YY-MM    Amount\n",
      "2022-12   $10.0 \n",
      "2022-11   $3.0  \n"
     ]
    }
   ],
   "source": [
    "person1.print_monthly_expenses()"
   ]
  },
  {
   "cell_type": "code",
   "execution_count": 12,
   "id": "2e46e960",
   "metadata": {},
   "outputs": [
    {
     "name": "stdout",
     "output_type": "stream",
     "text": [
      "App(\"Persons\" : [\n",
      " Person(\"Id\" : 1, \"Name\": Hari, \"Owe_to\" : {2: 2.0}, \"Owe_from\" : {}), \n",
      " Person(\"Id\" : 2, \"Name\": Krishna, \"Owe_to\" : {3: 9.0}, \"Owe_from\" : {1: 2.0}), \n",
      " Person(\"Id\" : 3, \"Name\": Moksh, \"Owe_to\" : {}, \"Owe_from\" : {2: 9.0})], \"\n",
      " Expenses\" : [\n",
      " Expense(\"Id\": 1 , \"Title\": Giant, \"Date\": 2022-12-04, \"Total_amount\": 24.0, \"Involved\": [1, 2, 3]), \n",
      " Expense(\"Id\": 2 , \"Title\": Walmart, \"Date\": 2022-11-25, \"Total_amount\": 9.0, \"Involved\": [1, 2, 3]), \n",
      " Expense(\"Id\": 3 , \"Title\": Cosco, \"Date\": 2022-12-04, \"Total_amount\": 6.0, \"Involved\": [1, 2, 3])])\n"
     ]
    }
   ],
   "source": [
    "# settle the amount\n",
    "app.settle_up(person1, person3,11)\n",
    "print(app)"
   ]
  }
 ],
 "metadata": {
  "kernelspec": {
   "display_name": "Python 3 (ipykernel)",
   "language": "python",
   "name": "python3"
  },
  "language_info": {
   "codemirror_mode": {
    "name": "ipython",
    "version": 3
   },
   "file_extension": ".py",
   "mimetype": "text/x-python",
   "name": "python",
   "nbconvert_exporter": "python",
   "pygments_lexer": "ipython3",
   "version": "3.10.2"
  }
 },
 "nbformat": 4,
 "nbformat_minor": 5
}
